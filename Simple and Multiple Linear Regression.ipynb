{
  "nbformat": 4,
  "nbformat_minor": 0,
  "metadata": {
    "colab": {
      "provenance": [],
      "collapsed_sections": [
        "c4fLZAcGAwoL",
        "3YeLuVt_tRWF",
        "HRqmiavk6Zxc",
        "_3qG8mhW8qqh",
        "svQcNMV1-UK3",
        "Rkk35Z03UyhG",
        "b4Udad7SXqJm",
        "PbZX2QegL5XJ",
        "VH81HaM0PkBr",
        "g2DfCu3XP3_b"
      ]
    },
    "kernelspec": {
      "name": "python3",
      "display_name": "Python 3"
    },
    "language_info": {
      "name": "python"
    }
  },
  "cells": [
    {
      "cell_type": "markdown",
      "source": [
        "# Import Pandas Library"
      ],
      "metadata": {
        "id": "NDyPHZ8jRizs"
      }
    },
    {
      "cell_type": "code",
      "execution_count": null,
      "metadata": {
        "id": "1RgPfwL4OmmM"
      },
      "outputs": [],
      "source": [
        "import matplotlib\n",
        "import matplotlib.pyplot as plt\n",
        "import seaborn as sns\n",
        "import numpy as np\n",
        "import pandas as pd\n",
        "from google.colab import drive"
      ]
    },
    {
      "cell_type": "code",
      "source": [
        "drive.mount(\"/content/drive\", force_remount=True)"
      ],
      "metadata": {
        "colab": {
          "base_uri": "https://localhost:8080/"
        },
        "id": "J0IFeqw9PaGn",
        "outputId": "05d2585d-9967-453d-a059-3f8263008bab"
      },
      "execution_count": null,
      "outputs": [
        {
          "output_type": "stream",
          "name": "stdout",
          "text": [
            "Mounted at /content/drive\n"
          ]
        }
      ]
    },
    {
      "cell_type": "markdown",
      "source": [
        "# Memuat data CSV"
      ],
      "metadata": {
        "id": "8p4dsjkhSJwg"
      }
    },
    {
      "cell_type": "code",
      "source": [
        "df = pd.read_csv(\"/content/drive/MyDrive/Machine Learning/TikTok_songs_2022.csv\")"
      ],
      "metadata": {
        "id": "y9lt7BJbQfF5"
      },
      "execution_count": null,
      "outputs": []
    },
    {
      "cell_type": "code",
      "source": [
        "df.head()"
      ],
      "metadata": {
        "colab": {
          "base_uri": "https://localhost:8080/"
        },
        "id": "KLceyGqSQ7zy",
        "outputId": "bddd1997-dbff-4cae-d5e4-ce3a61947d85"
      },
      "execution_count": null,
      "outputs": [
        {
          "output_type": "execute_result",
          "data": {
            "text/plain": [
              "                               track_name    artist_name  artist_pop  \\\n",
              "0  Running Up That Hill (A Deal With God)      Kate Bush          81   \n",
              "1                               As It Was   Harry Styles          91   \n",
              "2                                 Sunroof    Nicky Youre          73   \n",
              "3                              Heat Waves  Glass Animals          80   \n",
              "4                         About Damn Time          Lizzo          81   \n",
              "\n",
              "                        album  track_pop  danceability  energy  loudness  \\\n",
              "0              Hounds Of Love         95         0.629   0.547   -13.123   \n",
              "1                   As It Was         96         0.520   0.731    -5.338   \n",
              "2                     Sunroof         44         0.768   0.716    -5.110   \n",
              "3  Dreamland (+ Bonus Levels)         89         0.761   0.525    -6.900   \n",
              "4             About Damn Time         92         0.836   0.743    -6.305   \n",
              "\n",
              "   mode  key  speechiness  acousticness  instrumentalness  liveness  valence  \\\n",
              "0     0   10       0.0550        0.7200          0.003140    0.0604    0.197   \n",
              "1     0    6       0.0557        0.3420          0.001010    0.3110    0.662   \n",
              "2     1   10       0.0404        0.3500          0.000000    0.1500    0.841   \n",
              "3     1   11       0.0944        0.4400          0.000007    0.0921    0.531   \n",
              "4     0   10       0.0656        0.0995          0.000000    0.3350    0.722   \n",
              "\n",
              "     tempo  time_signature  duration_ms  \n",
              "0  108.375               4       298933  \n",
              "1  173.930               4       167303  \n",
              "2  131.430               4       163026  \n",
              "3   80.870               4       238805  \n",
              "4  108.966               4       191822  "
            ],
            "text/html": [
              "\n",
              "  <div id=\"df-15c2e6e1-ebb5-465f-9235-457353daf13d\" class=\"colab-df-container\">\n",
              "    <div>\n",
              "<style scoped>\n",
              "    .dataframe tbody tr th:only-of-type {\n",
              "        vertical-align: middle;\n",
              "    }\n",
              "\n",
              "    .dataframe tbody tr th {\n",
              "        vertical-align: top;\n",
              "    }\n",
              "\n",
              "    .dataframe thead th {\n",
              "        text-align: right;\n",
              "    }\n",
              "</style>\n",
              "<table border=\"1\" class=\"dataframe\">\n",
              "  <thead>\n",
              "    <tr style=\"text-align: right;\">\n",
              "      <th></th>\n",
              "      <th>track_name</th>\n",
              "      <th>artist_name</th>\n",
              "      <th>artist_pop</th>\n",
              "      <th>album</th>\n",
              "      <th>track_pop</th>\n",
              "      <th>danceability</th>\n",
              "      <th>energy</th>\n",
              "      <th>loudness</th>\n",
              "      <th>mode</th>\n",
              "      <th>key</th>\n",
              "      <th>speechiness</th>\n",
              "      <th>acousticness</th>\n",
              "      <th>instrumentalness</th>\n",
              "      <th>liveness</th>\n",
              "      <th>valence</th>\n",
              "      <th>tempo</th>\n",
              "      <th>time_signature</th>\n",
              "      <th>duration_ms</th>\n",
              "    </tr>\n",
              "  </thead>\n",
              "  <tbody>\n",
              "    <tr>\n",
              "      <th>0</th>\n",
              "      <td>Running Up That Hill (A Deal With God)</td>\n",
              "      <td>Kate Bush</td>\n",
              "      <td>81</td>\n",
              "      <td>Hounds Of Love</td>\n",
              "      <td>95</td>\n",
              "      <td>0.629</td>\n",
              "      <td>0.547</td>\n",
              "      <td>-13.123</td>\n",
              "      <td>0</td>\n",
              "      <td>10</td>\n",
              "      <td>0.0550</td>\n",
              "      <td>0.7200</td>\n",
              "      <td>0.003140</td>\n",
              "      <td>0.0604</td>\n",
              "      <td>0.197</td>\n",
              "      <td>108.375</td>\n",
              "      <td>4</td>\n",
              "      <td>298933</td>\n",
              "    </tr>\n",
              "    <tr>\n",
              "      <th>1</th>\n",
              "      <td>As It Was</td>\n",
              "      <td>Harry Styles</td>\n",
              "      <td>91</td>\n",
              "      <td>As It Was</td>\n",
              "      <td>96</td>\n",
              "      <td>0.520</td>\n",
              "      <td>0.731</td>\n",
              "      <td>-5.338</td>\n",
              "      <td>0</td>\n",
              "      <td>6</td>\n",
              "      <td>0.0557</td>\n",
              "      <td>0.3420</td>\n",
              "      <td>0.001010</td>\n",
              "      <td>0.3110</td>\n",
              "      <td>0.662</td>\n",
              "      <td>173.930</td>\n",
              "      <td>4</td>\n",
              "      <td>167303</td>\n",
              "    </tr>\n",
              "    <tr>\n",
              "      <th>2</th>\n",
              "      <td>Sunroof</td>\n",
              "      <td>Nicky Youre</td>\n",
              "      <td>73</td>\n",
              "      <td>Sunroof</td>\n",
              "      <td>44</td>\n",
              "      <td>0.768</td>\n",
              "      <td>0.716</td>\n",
              "      <td>-5.110</td>\n",
              "      <td>1</td>\n",
              "      <td>10</td>\n",
              "      <td>0.0404</td>\n",
              "      <td>0.3500</td>\n",
              "      <td>0.000000</td>\n",
              "      <td>0.1500</td>\n",
              "      <td>0.841</td>\n",
              "      <td>131.430</td>\n",
              "      <td>4</td>\n",
              "      <td>163026</td>\n",
              "    </tr>\n",
              "    <tr>\n",
              "      <th>3</th>\n",
              "      <td>Heat Waves</td>\n",
              "      <td>Glass Animals</td>\n",
              "      <td>80</td>\n",
              "      <td>Dreamland (+ Bonus Levels)</td>\n",
              "      <td>89</td>\n",
              "      <td>0.761</td>\n",
              "      <td>0.525</td>\n",
              "      <td>-6.900</td>\n",
              "      <td>1</td>\n",
              "      <td>11</td>\n",
              "      <td>0.0944</td>\n",
              "      <td>0.4400</td>\n",
              "      <td>0.000007</td>\n",
              "      <td>0.0921</td>\n",
              "      <td>0.531</td>\n",
              "      <td>80.870</td>\n",
              "      <td>4</td>\n",
              "      <td>238805</td>\n",
              "    </tr>\n",
              "    <tr>\n",
              "      <th>4</th>\n",
              "      <td>About Damn Time</td>\n",
              "      <td>Lizzo</td>\n",
              "      <td>81</td>\n",
              "      <td>About Damn Time</td>\n",
              "      <td>92</td>\n",
              "      <td>0.836</td>\n",
              "      <td>0.743</td>\n",
              "      <td>-6.305</td>\n",
              "      <td>0</td>\n",
              "      <td>10</td>\n",
              "      <td>0.0656</td>\n",
              "      <td>0.0995</td>\n",
              "      <td>0.000000</td>\n",
              "      <td>0.3350</td>\n",
              "      <td>0.722</td>\n",
              "      <td>108.966</td>\n",
              "      <td>4</td>\n",
              "      <td>191822</td>\n",
              "    </tr>\n",
              "  </tbody>\n",
              "</table>\n",
              "</div>\n",
              "    <div class=\"colab-df-buttons\">\n",
              "\n",
              "  <div class=\"colab-df-container\">\n",
              "    <button class=\"colab-df-convert\" onclick=\"convertToInteractive('df-15c2e6e1-ebb5-465f-9235-457353daf13d')\"\n",
              "            title=\"Convert this dataframe to an interactive table.\"\n",
              "            style=\"display:none;\">\n",
              "\n",
              "  <svg xmlns=\"http://www.w3.org/2000/svg\" height=\"24px\" viewBox=\"0 -960 960 960\">\n",
              "    <path d=\"M120-120v-720h720v720H120Zm60-500h600v-160H180v160Zm220 220h160v-160H400v160Zm0 220h160v-160H400v160ZM180-400h160v-160H180v160Zm440 0h160v-160H620v160ZM180-180h160v-160H180v160Zm440 0h160v-160H620v160Z\"/>\n",
              "  </svg>\n",
              "    </button>\n",
              "\n",
              "  <style>\n",
              "    .colab-df-container {\n",
              "      display:flex;\n",
              "      gap: 12px;\n",
              "    }\n",
              "\n",
              "    .colab-df-convert {\n",
              "      background-color: #E8F0FE;\n",
              "      border: none;\n",
              "      border-radius: 50%;\n",
              "      cursor: pointer;\n",
              "      display: none;\n",
              "      fill: #1967D2;\n",
              "      height: 32px;\n",
              "      padding: 0 0 0 0;\n",
              "      width: 32px;\n",
              "    }\n",
              "\n",
              "    .colab-df-convert:hover {\n",
              "      background-color: #E2EBFA;\n",
              "      box-shadow: 0px 1px 2px rgba(60, 64, 67, 0.3), 0px 1px 3px 1px rgba(60, 64, 67, 0.15);\n",
              "      fill: #174EA6;\n",
              "    }\n",
              "\n",
              "    .colab-df-buttons div {\n",
              "      margin-bottom: 4px;\n",
              "    }\n",
              "\n",
              "    [theme=dark] .colab-df-convert {\n",
              "      background-color: #3B4455;\n",
              "      fill: #D2E3FC;\n",
              "    }\n",
              "\n",
              "    [theme=dark] .colab-df-convert:hover {\n",
              "      background-color: #434B5C;\n",
              "      box-shadow: 0px 1px 3px 1px rgba(0, 0, 0, 0.15);\n",
              "      filter: drop-shadow(0px 1px 2px rgba(0, 0, 0, 0.3));\n",
              "      fill: #FFFFFF;\n",
              "    }\n",
              "  </style>\n",
              "\n",
              "    <script>\n",
              "      const buttonEl =\n",
              "        document.querySelector('#df-15c2e6e1-ebb5-465f-9235-457353daf13d button.colab-df-convert');\n",
              "      buttonEl.style.display =\n",
              "        google.colab.kernel.accessAllowed ? 'block' : 'none';\n",
              "\n",
              "      async function convertToInteractive(key) {\n",
              "        const element = document.querySelector('#df-15c2e6e1-ebb5-465f-9235-457353daf13d');\n",
              "        const dataTable =\n",
              "          await google.colab.kernel.invokeFunction('convertToInteractive',\n",
              "                                                    [key], {});\n",
              "        if (!dataTable) return;\n",
              "\n",
              "        const docLinkHtml = 'Like what you see? Visit the ' +\n",
              "          '<a target=\"_blank\" href=https://colab.research.google.com/notebooks/data_table.ipynb>data table notebook</a>'\n",
              "          + ' to learn more about interactive tables.';\n",
              "        element.innerHTML = '';\n",
              "        dataTable['output_type'] = 'display_data';\n",
              "        await google.colab.output.renderOutput(dataTable, element);\n",
              "        const docLink = document.createElement('div');\n",
              "        docLink.innerHTML = docLinkHtml;\n",
              "        element.appendChild(docLink);\n",
              "      }\n",
              "    </script>\n",
              "  </div>\n",
              "\n",
              "\n",
              "<div id=\"df-38fe9165-91ee-4f68-89c7-1f191438d425\">\n",
              "  <button class=\"colab-df-quickchart\" onclick=\"quickchart('df-38fe9165-91ee-4f68-89c7-1f191438d425')\"\n",
              "            title=\"Suggest charts.\"\n",
              "            style=\"display:none;\">\n",
              "\n",
              "<svg xmlns=\"http://www.w3.org/2000/svg\" height=\"24px\"viewBox=\"0 0 24 24\"\n",
              "     width=\"24px\">\n",
              "    <g>\n",
              "        <path d=\"M19 3H5c-1.1 0-2 .9-2 2v14c0 1.1.9 2 2 2h14c1.1 0 2-.9 2-2V5c0-1.1-.9-2-2-2zM9 17H7v-7h2v7zm4 0h-2V7h2v10zm4 0h-2v-4h2v4z\"/>\n",
              "    </g>\n",
              "</svg>\n",
              "  </button>\n",
              "\n",
              "<style>\n",
              "  .colab-df-quickchart {\n",
              "      --bg-color: #E8F0FE;\n",
              "      --fill-color: #1967D2;\n",
              "      --hover-bg-color: #E2EBFA;\n",
              "      --hover-fill-color: #174EA6;\n",
              "      --disabled-fill-color: #AAA;\n",
              "      --disabled-bg-color: #DDD;\n",
              "  }\n",
              "\n",
              "  [theme=dark] .colab-df-quickchart {\n",
              "      --bg-color: #3B4455;\n",
              "      --fill-color: #D2E3FC;\n",
              "      --hover-bg-color: #434B5C;\n",
              "      --hover-fill-color: #FFFFFF;\n",
              "      --disabled-bg-color: #3B4455;\n",
              "      --disabled-fill-color: #666;\n",
              "  }\n",
              "\n",
              "  .colab-df-quickchart {\n",
              "    background-color: var(--bg-color);\n",
              "    border: none;\n",
              "    border-radius: 50%;\n",
              "    cursor: pointer;\n",
              "    display: none;\n",
              "    fill: var(--fill-color);\n",
              "    height: 32px;\n",
              "    padding: 0;\n",
              "    width: 32px;\n",
              "  }\n",
              "\n",
              "  .colab-df-quickchart:hover {\n",
              "    background-color: var(--hover-bg-color);\n",
              "    box-shadow: 0 1px 2px rgba(60, 64, 67, 0.3), 0 1px 3px 1px rgba(60, 64, 67, 0.15);\n",
              "    fill: var(--button-hover-fill-color);\n",
              "  }\n",
              "\n",
              "  .colab-df-quickchart-complete:disabled,\n",
              "  .colab-df-quickchart-complete:disabled:hover {\n",
              "    background-color: var(--disabled-bg-color);\n",
              "    fill: var(--disabled-fill-color);\n",
              "    box-shadow: none;\n",
              "  }\n",
              "\n",
              "  .colab-df-spinner {\n",
              "    border: 2px solid var(--fill-color);\n",
              "    border-color: transparent;\n",
              "    border-bottom-color: var(--fill-color);\n",
              "    animation:\n",
              "      spin 1s steps(1) infinite;\n",
              "  }\n",
              "\n",
              "  @keyframes spin {\n",
              "    0% {\n",
              "      border-color: transparent;\n",
              "      border-bottom-color: var(--fill-color);\n",
              "      border-left-color: var(--fill-color);\n",
              "    }\n",
              "    20% {\n",
              "      border-color: transparent;\n",
              "      border-left-color: var(--fill-color);\n",
              "      border-top-color: var(--fill-color);\n",
              "    }\n",
              "    30% {\n",
              "      border-color: transparent;\n",
              "      border-left-color: var(--fill-color);\n",
              "      border-top-color: var(--fill-color);\n",
              "      border-right-color: var(--fill-color);\n",
              "    }\n",
              "    40% {\n",
              "      border-color: transparent;\n",
              "      border-right-color: var(--fill-color);\n",
              "      border-top-color: var(--fill-color);\n",
              "    }\n",
              "    60% {\n",
              "      border-color: transparent;\n",
              "      border-right-color: var(--fill-color);\n",
              "    }\n",
              "    80% {\n",
              "      border-color: transparent;\n",
              "      border-right-color: var(--fill-color);\n",
              "      border-bottom-color: var(--fill-color);\n",
              "    }\n",
              "    90% {\n",
              "      border-color: transparent;\n",
              "      border-bottom-color: var(--fill-color);\n",
              "    }\n",
              "  }\n",
              "</style>\n",
              "\n",
              "  <script>\n",
              "    async function quickchart(key) {\n",
              "      const quickchartButtonEl =\n",
              "        document.querySelector('#' + key + ' button');\n",
              "      quickchartButtonEl.disabled = true;  // To prevent multiple clicks.\n",
              "      quickchartButtonEl.classList.add('colab-df-spinner');\n",
              "      try {\n",
              "        const charts = await google.colab.kernel.invokeFunction(\n",
              "            'suggestCharts', [key], {});\n",
              "      } catch (error) {\n",
              "        console.error('Error during call to suggestCharts:', error);\n",
              "      }\n",
              "      quickchartButtonEl.classList.remove('colab-df-spinner');\n",
              "      quickchartButtonEl.classList.add('colab-df-quickchart-complete');\n",
              "    }\n",
              "    (() => {\n",
              "      let quickchartButtonEl =\n",
              "        document.querySelector('#df-38fe9165-91ee-4f68-89c7-1f191438d425 button');\n",
              "      quickchartButtonEl.style.display =\n",
              "        google.colab.kernel.accessAllowed ? 'block' : 'none';\n",
              "    })();\n",
              "  </script>\n",
              "</div>\n",
              "    </div>\n",
              "  </div>\n"
            ]
          },
          "metadata": {},
          "execution_count": 22
        }
      ]
    },
    {
      "cell_type": "code",
      "source": [
        "df.tail()"
      ],
      "metadata": {
        "colab": {
          "base_uri": "https://localhost:8080/"
        },
        "id": "hlHCmw22SYRD",
        "outputId": "a23eb061-7a7c-4a50-8073-25c2003ad21d"
      },
      "execution_count": null,
      "outputs": [
        {
          "output_type": "execute_result",
          "data": {
            "text/plain": [
              "                        track_name      artist_name  artist_pop  \\\n",
              "258     The Less I Know The Better      Tame Impala          78   \n",
              "259                     Dandelions          Ruth B.          75   \n",
              "260  Jimmy Cooks (feat. 21 Savage)            Drake          95   \n",
              "261                   Good Looking  Suki Waterhouse          64   \n",
              "262                        INFERNO        Sub Urban          67   \n",
              "\n",
              "                   album  track_pop  danceability  energy  loudness  mode  \\\n",
              "258             Currents         84         0.640   0.740    -4.083     1   \n",
              "259           Safe Haven         90         0.609   0.692    -2.958     1   \n",
              "260  Honestly, Nevermind         92         0.529   0.673    -4.711     1   \n",
              "261         Good Looking         80         0.377   0.558    -9.076     1   \n",
              "262              INFERNO         71         0.820   0.611    -5.020     0   \n",
              "\n",
              "     key  speechiness  acousticness  instrumentalness  liveness  valence  \\\n",
              "258    4       0.0284      0.011500          0.006780    0.1670    0.785   \n",
              "259    1       0.0259      0.015700          0.000000    0.0864    0.454   \n",
              "260    0       0.1750      0.000307          0.000002    0.0930    0.366   \n",
              "261    4       0.0299      0.078900          0.000342    0.1250    0.267   \n",
              "262    9       0.1220      0.076600          0.000025    0.0684    0.637   \n",
              "\n",
              "       tempo  time_signature  duration_ms  \n",
              "258  116.879               4       216320  \n",
              "259  116.959               3       233720  \n",
              "260  165.921               4       218365  \n",
              "261  149.971               3       214800  \n",
              "262  127.883               4       133134  "
            ],
            "text/html": [
              "\n",
              "  <div id=\"df-d54de301-c50b-4e9b-af17-39c8940c5a13\" class=\"colab-df-container\">\n",
              "    <div>\n",
              "<style scoped>\n",
              "    .dataframe tbody tr th:only-of-type {\n",
              "        vertical-align: middle;\n",
              "    }\n",
              "\n",
              "    .dataframe tbody tr th {\n",
              "        vertical-align: top;\n",
              "    }\n",
              "\n",
              "    .dataframe thead th {\n",
              "        text-align: right;\n",
              "    }\n",
              "</style>\n",
              "<table border=\"1\" class=\"dataframe\">\n",
              "  <thead>\n",
              "    <tr style=\"text-align: right;\">\n",
              "      <th></th>\n",
              "      <th>track_name</th>\n",
              "      <th>artist_name</th>\n",
              "      <th>artist_pop</th>\n",
              "      <th>album</th>\n",
              "      <th>track_pop</th>\n",
              "      <th>danceability</th>\n",
              "      <th>energy</th>\n",
              "      <th>loudness</th>\n",
              "      <th>mode</th>\n",
              "      <th>key</th>\n",
              "      <th>speechiness</th>\n",
              "      <th>acousticness</th>\n",
              "      <th>instrumentalness</th>\n",
              "      <th>liveness</th>\n",
              "      <th>valence</th>\n",
              "      <th>tempo</th>\n",
              "      <th>time_signature</th>\n",
              "      <th>duration_ms</th>\n",
              "    </tr>\n",
              "  </thead>\n",
              "  <tbody>\n",
              "    <tr>\n",
              "      <th>258</th>\n",
              "      <td>The Less I Know The Better</td>\n",
              "      <td>Tame Impala</td>\n",
              "      <td>78</td>\n",
              "      <td>Currents</td>\n",
              "      <td>84</td>\n",
              "      <td>0.640</td>\n",
              "      <td>0.740</td>\n",
              "      <td>-4.083</td>\n",
              "      <td>1</td>\n",
              "      <td>4</td>\n",
              "      <td>0.0284</td>\n",
              "      <td>0.011500</td>\n",
              "      <td>0.006780</td>\n",
              "      <td>0.1670</td>\n",
              "      <td>0.785</td>\n",
              "      <td>116.879</td>\n",
              "      <td>4</td>\n",
              "      <td>216320</td>\n",
              "    </tr>\n",
              "    <tr>\n",
              "      <th>259</th>\n",
              "      <td>Dandelions</td>\n",
              "      <td>Ruth B.</td>\n",
              "      <td>75</td>\n",
              "      <td>Safe Haven</td>\n",
              "      <td>90</td>\n",
              "      <td>0.609</td>\n",
              "      <td>0.692</td>\n",
              "      <td>-2.958</td>\n",
              "      <td>1</td>\n",
              "      <td>1</td>\n",
              "      <td>0.0259</td>\n",
              "      <td>0.015700</td>\n",
              "      <td>0.000000</td>\n",
              "      <td>0.0864</td>\n",
              "      <td>0.454</td>\n",
              "      <td>116.959</td>\n",
              "      <td>3</td>\n",
              "      <td>233720</td>\n",
              "    </tr>\n",
              "    <tr>\n",
              "      <th>260</th>\n",
              "      <td>Jimmy Cooks (feat. 21 Savage)</td>\n",
              "      <td>Drake</td>\n",
              "      <td>95</td>\n",
              "      <td>Honestly, Nevermind</td>\n",
              "      <td>92</td>\n",
              "      <td>0.529</td>\n",
              "      <td>0.673</td>\n",
              "      <td>-4.711</td>\n",
              "      <td>1</td>\n",
              "      <td>0</td>\n",
              "      <td>0.1750</td>\n",
              "      <td>0.000307</td>\n",
              "      <td>0.000002</td>\n",
              "      <td>0.0930</td>\n",
              "      <td>0.366</td>\n",
              "      <td>165.921</td>\n",
              "      <td>4</td>\n",
              "      <td>218365</td>\n",
              "    </tr>\n",
              "    <tr>\n",
              "      <th>261</th>\n",
              "      <td>Good Looking</td>\n",
              "      <td>Suki Waterhouse</td>\n",
              "      <td>64</td>\n",
              "      <td>Good Looking</td>\n",
              "      <td>80</td>\n",
              "      <td>0.377</td>\n",
              "      <td>0.558</td>\n",
              "      <td>-9.076</td>\n",
              "      <td>1</td>\n",
              "      <td>4</td>\n",
              "      <td>0.0299</td>\n",
              "      <td>0.078900</td>\n",
              "      <td>0.000342</td>\n",
              "      <td>0.1250</td>\n",
              "      <td>0.267</td>\n",
              "      <td>149.971</td>\n",
              "      <td>3</td>\n",
              "      <td>214800</td>\n",
              "    </tr>\n",
              "    <tr>\n",
              "      <th>262</th>\n",
              "      <td>INFERNO</td>\n",
              "      <td>Sub Urban</td>\n",
              "      <td>67</td>\n",
              "      <td>INFERNO</td>\n",
              "      <td>71</td>\n",
              "      <td>0.820</td>\n",
              "      <td>0.611</td>\n",
              "      <td>-5.020</td>\n",
              "      <td>0</td>\n",
              "      <td>9</td>\n",
              "      <td>0.1220</td>\n",
              "      <td>0.076600</td>\n",
              "      <td>0.000025</td>\n",
              "      <td>0.0684</td>\n",
              "      <td>0.637</td>\n",
              "      <td>127.883</td>\n",
              "      <td>4</td>\n",
              "      <td>133134</td>\n",
              "    </tr>\n",
              "  </tbody>\n",
              "</table>\n",
              "</div>\n",
              "    <div class=\"colab-df-buttons\">\n",
              "\n",
              "  <div class=\"colab-df-container\">\n",
              "    <button class=\"colab-df-convert\" onclick=\"convertToInteractive('df-d54de301-c50b-4e9b-af17-39c8940c5a13')\"\n",
              "            title=\"Convert this dataframe to an interactive table.\"\n",
              "            style=\"display:none;\">\n",
              "\n",
              "  <svg xmlns=\"http://www.w3.org/2000/svg\" height=\"24px\" viewBox=\"0 -960 960 960\">\n",
              "    <path d=\"M120-120v-720h720v720H120Zm60-500h600v-160H180v160Zm220 220h160v-160H400v160Zm0 220h160v-160H400v160ZM180-400h160v-160H180v160Zm440 0h160v-160H620v160ZM180-180h160v-160H180v160Zm440 0h160v-160H620v160Z\"/>\n",
              "  </svg>\n",
              "    </button>\n",
              "\n",
              "  <style>\n",
              "    .colab-df-container {\n",
              "      display:flex;\n",
              "      gap: 12px;\n",
              "    }\n",
              "\n",
              "    .colab-df-convert {\n",
              "      background-color: #E8F0FE;\n",
              "      border: none;\n",
              "      border-radius: 50%;\n",
              "      cursor: pointer;\n",
              "      display: none;\n",
              "      fill: #1967D2;\n",
              "      height: 32px;\n",
              "      padding: 0 0 0 0;\n",
              "      width: 32px;\n",
              "    }\n",
              "\n",
              "    .colab-df-convert:hover {\n",
              "      background-color: #E2EBFA;\n",
              "      box-shadow: 0px 1px 2px rgba(60, 64, 67, 0.3), 0px 1px 3px 1px rgba(60, 64, 67, 0.15);\n",
              "      fill: #174EA6;\n",
              "    }\n",
              "\n",
              "    .colab-df-buttons div {\n",
              "      margin-bottom: 4px;\n",
              "    }\n",
              "\n",
              "    [theme=dark] .colab-df-convert {\n",
              "      background-color: #3B4455;\n",
              "      fill: #D2E3FC;\n",
              "    }\n",
              "\n",
              "    [theme=dark] .colab-df-convert:hover {\n",
              "      background-color: #434B5C;\n",
              "      box-shadow: 0px 1px 3px 1px rgba(0, 0, 0, 0.15);\n",
              "      filter: drop-shadow(0px 1px 2px rgba(0, 0, 0, 0.3));\n",
              "      fill: #FFFFFF;\n",
              "    }\n",
              "  </style>\n",
              "\n",
              "    <script>\n",
              "      const buttonEl =\n",
              "        document.querySelector('#df-d54de301-c50b-4e9b-af17-39c8940c5a13 button.colab-df-convert');\n",
              "      buttonEl.style.display =\n",
              "        google.colab.kernel.accessAllowed ? 'block' : 'none';\n",
              "\n",
              "      async function convertToInteractive(key) {\n",
              "        const element = document.querySelector('#df-d54de301-c50b-4e9b-af17-39c8940c5a13');\n",
              "        const dataTable =\n",
              "          await google.colab.kernel.invokeFunction('convertToInteractive',\n",
              "                                                    [key], {});\n",
              "        if (!dataTable) return;\n",
              "\n",
              "        const docLinkHtml = 'Like what you see? Visit the ' +\n",
              "          '<a target=\"_blank\" href=https://colab.research.google.com/notebooks/data_table.ipynb>data table notebook</a>'\n",
              "          + ' to learn more about interactive tables.';\n",
              "        element.innerHTML = '';\n",
              "        dataTable['output_type'] = 'display_data';\n",
              "        await google.colab.output.renderOutput(dataTable, element);\n",
              "        const docLink = document.createElement('div');\n",
              "        docLink.innerHTML = docLinkHtml;\n",
              "        element.appendChild(docLink);\n",
              "      }\n",
              "    </script>\n",
              "  </div>\n",
              "\n",
              "\n",
              "<div id=\"df-5c278da1-3cf5-400c-bfc4-fe8a76a9725e\">\n",
              "  <button class=\"colab-df-quickchart\" onclick=\"quickchart('df-5c278da1-3cf5-400c-bfc4-fe8a76a9725e')\"\n",
              "            title=\"Suggest charts.\"\n",
              "            style=\"display:none;\">\n",
              "\n",
              "<svg xmlns=\"http://www.w3.org/2000/svg\" height=\"24px\"viewBox=\"0 0 24 24\"\n",
              "     width=\"24px\">\n",
              "    <g>\n",
              "        <path d=\"M19 3H5c-1.1 0-2 .9-2 2v14c0 1.1.9 2 2 2h14c1.1 0 2-.9 2-2V5c0-1.1-.9-2-2-2zM9 17H7v-7h2v7zm4 0h-2V7h2v10zm4 0h-2v-4h2v4z\"/>\n",
              "    </g>\n",
              "</svg>\n",
              "  </button>\n",
              "\n",
              "<style>\n",
              "  .colab-df-quickchart {\n",
              "      --bg-color: #E8F0FE;\n",
              "      --fill-color: #1967D2;\n",
              "      --hover-bg-color: #E2EBFA;\n",
              "      --hover-fill-color: #174EA6;\n",
              "      --disabled-fill-color: #AAA;\n",
              "      --disabled-bg-color: #DDD;\n",
              "  }\n",
              "\n",
              "  [theme=dark] .colab-df-quickchart {\n",
              "      --bg-color: #3B4455;\n",
              "      --fill-color: #D2E3FC;\n",
              "      --hover-bg-color: #434B5C;\n",
              "      --hover-fill-color: #FFFFFF;\n",
              "      --disabled-bg-color: #3B4455;\n",
              "      --disabled-fill-color: #666;\n",
              "  }\n",
              "\n",
              "  .colab-df-quickchart {\n",
              "    background-color: var(--bg-color);\n",
              "    border: none;\n",
              "    border-radius: 50%;\n",
              "    cursor: pointer;\n",
              "    display: none;\n",
              "    fill: var(--fill-color);\n",
              "    height: 32px;\n",
              "    padding: 0;\n",
              "    width: 32px;\n",
              "  }\n",
              "\n",
              "  .colab-df-quickchart:hover {\n",
              "    background-color: var(--hover-bg-color);\n",
              "    box-shadow: 0 1px 2px rgba(60, 64, 67, 0.3), 0 1px 3px 1px rgba(60, 64, 67, 0.15);\n",
              "    fill: var(--button-hover-fill-color);\n",
              "  }\n",
              "\n",
              "  .colab-df-quickchart-complete:disabled,\n",
              "  .colab-df-quickchart-complete:disabled:hover {\n",
              "    background-color: var(--disabled-bg-color);\n",
              "    fill: var(--disabled-fill-color);\n",
              "    box-shadow: none;\n",
              "  }\n",
              "\n",
              "  .colab-df-spinner {\n",
              "    border: 2px solid var(--fill-color);\n",
              "    border-color: transparent;\n",
              "    border-bottom-color: var(--fill-color);\n",
              "    animation:\n",
              "      spin 1s steps(1) infinite;\n",
              "  }\n",
              "\n",
              "  @keyframes spin {\n",
              "    0% {\n",
              "      border-color: transparent;\n",
              "      border-bottom-color: var(--fill-color);\n",
              "      border-left-color: var(--fill-color);\n",
              "    }\n",
              "    20% {\n",
              "      border-color: transparent;\n",
              "      border-left-color: var(--fill-color);\n",
              "      border-top-color: var(--fill-color);\n",
              "    }\n",
              "    30% {\n",
              "      border-color: transparent;\n",
              "      border-left-color: var(--fill-color);\n",
              "      border-top-color: var(--fill-color);\n",
              "      border-right-color: var(--fill-color);\n",
              "    }\n",
              "    40% {\n",
              "      border-color: transparent;\n",
              "      border-right-color: var(--fill-color);\n",
              "      border-top-color: var(--fill-color);\n",
              "    }\n",
              "    60% {\n",
              "      border-color: transparent;\n",
              "      border-right-color: var(--fill-color);\n",
              "    }\n",
              "    80% {\n",
              "      border-color: transparent;\n",
              "      border-right-color: var(--fill-color);\n",
              "      border-bottom-color: var(--fill-color);\n",
              "    }\n",
              "    90% {\n",
              "      border-color: transparent;\n",
              "      border-bottom-color: var(--fill-color);\n",
              "    }\n",
              "  }\n",
              "</style>\n",
              "\n",
              "  <script>\n",
              "    async function quickchart(key) {\n",
              "      const quickchartButtonEl =\n",
              "        document.querySelector('#' + key + ' button');\n",
              "      quickchartButtonEl.disabled = true;  // To prevent multiple clicks.\n",
              "      quickchartButtonEl.classList.add('colab-df-spinner');\n",
              "      try {\n",
              "        const charts = await google.colab.kernel.invokeFunction(\n",
              "            'suggestCharts', [key], {});\n",
              "      } catch (error) {\n",
              "        console.error('Error during call to suggestCharts:', error);\n",
              "      }\n",
              "      quickchartButtonEl.classList.remove('colab-df-spinner');\n",
              "      quickchartButtonEl.classList.add('colab-df-quickchart-complete');\n",
              "    }\n",
              "    (() => {\n",
              "      let quickchartButtonEl =\n",
              "        document.querySelector('#df-5c278da1-3cf5-400c-bfc4-fe8a76a9725e button');\n",
              "      quickchartButtonEl.style.display =\n",
              "        google.colab.kernel.accessAllowed ? 'block' : 'none';\n",
              "    })();\n",
              "  </script>\n",
              "</div>\n",
              "    </div>\n",
              "  </div>\n"
            ]
          },
          "metadata": {},
          "execution_count": 23
        }
      ]
    },
    {
      "cell_type": "code",
      "source": [
        "df.info"
      ],
      "metadata": {
        "colab": {
          "base_uri": "https://localhost:8080/"
        },
        "id": "kVAZ2uR4h2IU",
        "outputId": "bf3aed53-4cfc-4615-c12a-9bb586a04297"
      },
      "execution_count": null,
      "outputs": [
        {
          "output_type": "execute_result",
          "data": {
            "text/plain": [
              "<bound method DataFrame.info of                                  track_name      artist_name  artist_pop  \\\n",
              "0    Running Up That Hill (A Deal With God)        Kate Bush          81   \n",
              "1                                 As It Was     Harry Styles          91   \n",
              "2                                   Sunroof      Nicky Youre          73   \n",
              "3                                Heat Waves    Glass Animals          80   \n",
              "4                           About Damn Time            Lizzo          81   \n",
              "..                                      ...              ...         ...   \n",
              "258              The Less I Know The Better      Tame Impala          78   \n",
              "259                              Dandelions          Ruth B.          75   \n",
              "260           Jimmy Cooks (feat. 21 Savage)            Drake          95   \n",
              "261                            Good Looking  Suki Waterhouse          64   \n",
              "262                                 INFERNO        Sub Urban          67   \n",
              "\n",
              "                          album  track_pop  danceability  energy  loudness  \\\n",
              "0                Hounds Of Love         95         0.629   0.547   -13.123   \n",
              "1                     As It Was         96         0.520   0.731    -5.338   \n",
              "2                       Sunroof         44         0.768   0.716    -5.110   \n",
              "3    Dreamland (+ Bonus Levels)         89         0.761   0.525    -6.900   \n",
              "4               About Damn Time         92         0.836   0.743    -6.305   \n",
              "..                          ...        ...           ...     ...       ...   \n",
              "258                    Currents         84         0.640   0.740    -4.083   \n",
              "259                  Safe Haven         90         0.609   0.692    -2.958   \n",
              "260         Honestly, Nevermind         92         0.529   0.673    -4.711   \n",
              "261                Good Looking         80         0.377   0.558    -9.076   \n",
              "262                     INFERNO         71         0.820   0.611    -5.020   \n",
              "\n",
              "     mode  key  speechiness  acousticness  instrumentalness  liveness  \\\n",
              "0       0   10       0.0550      0.720000          0.003140    0.0604   \n",
              "1       0    6       0.0557      0.342000          0.001010    0.3110   \n",
              "2       1   10       0.0404      0.350000          0.000000    0.1500   \n",
              "3       1   11       0.0944      0.440000          0.000007    0.0921   \n",
              "4       0   10       0.0656      0.099500          0.000000    0.3350   \n",
              "..    ...  ...          ...           ...               ...       ...   \n",
              "258     1    4       0.0284      0.011500          0.006780    0.1670   \n",
              "259     1    1       0.0259      0.015700          0.000000    0.0864   \n",
              "260     1    0       0.1750      0.000307          0.000002    0.0930   \n",
              "261     1    4       0.0299      0.078900          0.000342    0.1250   \n",
              "262     0    9       0.1220      0.076600          0.000025    0.0684   \n",
              "\n",
              "     valence    tempo  time_signature  duration_ms  \n",
              "0      0.197  108.375               4       298933  \n",
              "1      0.662  173.930               4       167303  \n",
              "2      0.841  131.430               4       163026  \n",
              "3      0.531   80.870               4       238805  \n",
              "4      0.722  108.966               4       191822  \n",
              "..       ...      ...             ...          ...  \n",
              "258    0.785  116.879               4       216320  \n",
              "259    0.454  116.959               3       233720  \n",
              "260    0.366  165.921               4       218365  \n",
              "261    0.267  149.971               3       214800  \n",
              "262    0.637  127.883               4       133134  \n",
              "\n",
              "[263 rows x 18 columns]>"
            ]
          },
          "metadata": {},
          "execution_count": 24
        }
      ]
    },
    {
      "cell_type": "code",
      "source": [
        "df.describe()"
      ],
      "metadata": {
        "colab": {
          "base_uri": "https://localhost:8080/"
        },
        "id": "jcUbIji7h7Ml",
        "outputId": "c7aaede6-c262-42b5-bbbb-2d39d8a14614"
      },
      "execution_count": null,
      "outputs": [
        {
          "output_type": "execute_result",
          "data": {
            "text/plain": [
              "       artist_pop   track_pop  danceability      energy    loudness  \\\n",
              "count  263.000000  263.000000    263.000000  263.000000  263.000000   \n",
              "mean    64.186312   59.844106      0.715338    0.682631   -6.300513   \n",
              "std     18.146338   24.976524      0.117722    0.141756    1.905114   \n",
              "min     18.000000    0.000000      0.308000    0.214000  -13.468000   \n",
              "25%     50.000000   47.000000      0.646000    0.593000   -7.423500   \n",
              "50%     64.000000   66.000000      0.726000    0.701000   -6.067000   \n",
              "75%     81.000000   79.500000      0.796500    0.790500   -4.887000   \n",
              "max     95.000000   97.000000      0.961000    0.955000   -2.634000   \n",
              "\n",
              "             mode         key  speechiness  acousticness  instrumentalness  \\\n",
              "count  263.000000  263.000000   263.000000    263.000000        263.000000   \n",
              "mean     0.536122    5.809886     0.117268      0.193188          0.020244   \n",
              "std      0.499644    3.657312     0.101417      0.214588          0.109370   \n",
              "min      0.000000    0.000000     0.025200      0.000038          0.000000   \n",
              "25%      0.000000    2.000000     0.044750      0.028100          0.000000   \n",
              "50%      1.000000    6.000000     0.070700      0.120000          0.000003   \n",
              "75%      1.000000    9.000000     0.156000      0.298500          0.000334   \n",
              "max      1.000000   11.000000     0.481000      0.965000          0.939000   \n",
              "\n",
              "         liveness     valence       tempo  time_signature    duration_ms  \n",
              "count  263.000000  263.000000  263.000000      263.000000     263.000000  \n",
              "mean     0.202562    0.506149  122.883696        3.969582  174656.212928  \n",
              "std      0.151808    0.220757   24.396686        0.288168   34785.125564  \n",
              "min      0.026500    0.036300   62.948000        1.000000   85742.000000  \n",
              "25%      0.094350    0.349000  106.850500        4.000000  148646.000000  \n",
              "50%      0.132000    0.485000  123.056000        4.000000  171028.000000  \n",
              "75%      0.277500    0.680000  130.004500        4.000000  199047.000000  \n",
              "max      0.790000    0.956000  187.906000        5.000000  298933.000000  "
            ],
            "text/html": [
              "\n",
              "  <div id=\"df-f85e377b-0db5-4132-be2a-25fc692ec4c7\" class=\"colab-df-container\">\n",
              "    <div>\n",
              "<style scoped>\n",
              "    .dataframe tbody tr th:only-of-type {\n",
              "        vertical-align: middle;\n",
              "    }\n",
              "\n",
              "    .dataframe tbody tr th {\n",
              "        vertical-align: top;\n",
              "    }\n",
              "\n",
              "    .dataframe thead th {\n",
              "        text-align: right;\n",
              "    }\n",
              "</style>\n",
              "<table border=\"1\" class=\"dataframe\">\n",
              "  <thead>\n",
              "    <tr style=\"text-align: right;\">\n",
              "      <th></th>\n",
              "      <th>artist_pop</th>\n",
              "      <th>track_pop</th>\n",
              "      <th>danceability</th>\n",
              "      <th>energy</th>\n",
              "      <th>loudness</th>\n",
              "      <th>mode</th>\n",
              "      <th>key</th>\n",
              "      <th>speechiness</th>\n",
              "      <th>acousticness</th>\n",
              "      <th>instrumentalness</th>\n",
              "      <th>liveness</th>\n",
              "      <th>valence</th>\n",
              "      <th>tempo</th>\n",
              "      <th>time_signature</th>\n",
              "      <th>duration_ms</th>\n",
              "    </tr>\n",
              "  </thead>\n",
              "  <tbody>\n",
              "    <tr>\n",
              "      <th>count</th>\n",
              "      <td>263.000000</td>\n",
              "      <td>263.000000</td>\n",
              "      <td>263.000000</td>\n",
              "      <td>263.000000</td>\n",
              "      <td>263.000000</td>\n",
              "      <td>263.000000</td>\n",
              "      <td>263.000000</td>\n",
              "      <td>263.000000</td>\n",
              "      <td>263.000000</td>\n",
              "      <td>263.000000</td>\n",
              "      <td>263.000000</td>\n",
              "      <td>263.000000</td>\n",
              "      <td>263.000000</td>\n",
              "      <td>263.000000</td>\n",
              "      <td>263.000000</td>\n",
              "    </tr>\n",
              "    <tr>\n",
              "      <th>mean</th>\n",
              "      <td>64.186312</td>\n",
              "      <td>59.844106</td>\n",
              "      <td>0.715338</td>\n",
              "      <td>0.682631</td>\n",
              "      <td>-6.300513</td>\n",
              "      <td>0.536122</td>\n",
              "      <td>5.809886</td>\n",
              "      <td>0.117268</td>\n",
              "      <td>0.193188</td>\n",
              "      <td>0.020244</td>\n",
              "      <td>0.202562</td>\n",
              "      <td>0.506149</td>\n",
              "      <td>122.883696</td>\n",
              "      <td>3.969582</td>\n",
              "      <td>174656.212928</td>\n",
              "    </tr>\n",
              "    <tr>\n",
              "      <th>std</th>\n",
              "      <td>18.146338</td>\n",
              "      <td>24.976524</td>\n",
              "      <td>0.117722</td>\n",
              "      <td>0.141756</td>\n",
              "      <td>1.905114</td>\n",
              "      <td>0.499644</td>\n",
              "      <td>3.657312</td>\n",
              "      <td>0.101417</td>\n",
              "      <td>0.214588</td>\n",
              "      <td>0.109370</td>\n",
              "      <td>0.151808</td>\n",
              "      <td>0.220757</td>\n",
              "      <td>24.396686</td>\n",
              "      <td>0.288168</td>\n",
              "      <td>34785.125564</td>\n",
              "    </tr>\n",
              "    <tr>\n",
              "      <th>min</th>\n",
              "      <td>18.000000</td>\n",
              "      <td>0.000000</td>\n",
              "      <td>0.308000</td>\n",
              "      <td>0.214000</td>\n",
              "      <td>-13.468000</td>\n",
              "      <td>0.000000</td>\n",
              "      <td>0.000000</td>\n",
              "      <td>0.025200</td>\n",
              "      <td>0.000038</td>\n",
              "      <td>0.000000</td>\n",
              "      <td>0.026500</td>\n",
              "      <td>0.036300</td>\n",
              "      <td>62.948000</td>\n",
              "      <td>1.000000</td>\n",
              "      <td>85742.000000</td>\n",
              "    </tr>\n",
              "    <tr>\n",
              "      <th>25%</th>\n",
              "      <td>50.000000</td>\n",
              "      <td>47.000000</td>\n",
              "      <td>0.646000</td>\n",
              "      <td>0.593000</td>\n",
              "      <td>-7.423500</td>\n",
              "      <td>0.000000</td>\n",
              "      <td>2.000000</td>\n",
              "      <td>0.044750</td>\n",
              "      <td>0.028100</td>\n",
              "      <td>0.000000</td>\n",
              "      <td>0.094350</td>\n",
              "      <td>0.349000</td>\n",
              "      <td>106.850500</td>\n",
              "      <td>4.000000</td>\n",
              "      <td>148646.000000</td>\n",
              "    </tr>\n",
              "    <tr>\n",
              "      <th>50%</th>\n",
              "      <td>64.000000</td>\n",
              "      <td>66.000000</td>\n",
              "      <td>0.726000</td>\n",
              "      <td>0.701000</td>\n",
              "      <td>-6.067000</td>\n",
              "      <td>1.000000</td>\n",
              "      <td>6.000000</td>\n",
              "      <td>0.070700</td>\n",
              "      <td>0.120000</td>\n",
              "      <td>0.000003</td>\n",
              "      <td>0.132000</td>\n",
              "      <td>0.485000</td>\n",
              "      <td>123.056000</td>\n",
              "      <td>4.000000</td>\n",
              "      <td>171028.000000</td>\n",
              "    </tr>\n",
              "    <tr>\n",
              "      <th>75%</th>\n",
              "      <td>81.000000</td>\n",
              "      <td>79.500000</td>\n",
              "      <td>0.796500</td>\n",
              "      <td>0.790500</td>\n",
              "      <td>-4.887000</td>\n",
              "      <td>1.000000</td>\n",
              "      <td>9.000000</td>\n",
              "      <td>0.156000</td>\n",
              "      <td>0.298500</td>\n",
              "      <td>0.000334</td>\n",
              "      <td>0.277500</td>\n",
              "      <td>0.680000</td>\n",
              "      <td>130.004500</td>\n",
              "      <td>4.000000</td>\n",
              "      <td>199047.000000</td>\n",
              "    </tr>\n",
              "    <tr>\n",
              "      <th>max</th>\n",
              "      <td>95.000000</td>\n",
              "      <td>97.000000</td>\n",
              "      <td>0.961000</td>\n",
              "      <td>0.955000</td>\n",
              "      <td>-2.634000</td>\n",
              "      <td>1.000000</td>\n",
              "      <td>11.000000</td>\n",
              "      <td>0.481000</td>\n",
              "      <td>0.965000</td>\n",
              "      <td>0.939000</td>\n",
              "      <td>0.790000</td>\n",
              "      <td>0.956000</td>\n",
              "      <td>187.906000</td>\n",
              "      <td>5.000000</td>\n",
              "      <td>298933.000000</td>\n",
              "    </tr>\n",
              "  </tbody>\n",
              "</table>\n",
              "</div>\n",
              "    <div class=\"colab-df-buttons\">\n",
              "\n",
              "  <div class=\"colab-df-container\">\n",
              "    <button class=\"colab-df-convert\" onclick=\"convertToInteractive('df-f85e377b-0db5-4132-be2a-25fc692ec4c7')\"\n",
              "            title=\"Convert this dataframe to an interactive table.\"\n",
              "            style=\"display:none;\">\n",
              "\n",
              "  <svg xmlns=\"http://www.w3.org/2000/svg\" height=\"24px\" viewBox=\"0 -960 960 960\">\n",
              "    <path d=\"M120-120v-720h720v720H120Zm60-500h600v-160H180v160Zm220 220h160v-160H400v160Zm0 220h160v-160H400v160ZM180-400h160v-160H180v160Zm440 0h160v-160H620v160ZM180-180h160v-160H180v160Zm440 0h160v-160H620v160Z\"/>\n",
              "  </svg>\n",
              "    </button>\n",
              "\n",
              "  <style>\n",
              "    .colab-df-container {\n",
              "      display:flex;\n",
              "      gap: 12px;\n",
              "    }\n",
              "\n",
              "    .colab-df-convert {\n",
              "      background-color: #E8F0FE;\n",
              "      border: none;\n",
              "      border-radius: 50%;\n",
              "      cursor: pointer;\n",
              "      display: none;\n",
              "      fill: #1967D2;\n",
              "      height: 32px;\n",
              "      padding: 0 0 0 0;\n",
              "      width: 32px;\n",
              "    }\n",
              "\n",
              "    .colab-df-convert:hover {\n",
              "      background-color: #E2EBFA;\n",
              "      box-shadow: 0px 1px 2px rgba(60, 64, 67, 0.3), 0px 1px 3px 1px rgba(60, 64, 67, 0.15);\n",
              "      fill: #174EA6;\n",
              "    }\n",
              "\n",
              "    .colab-df-buttons div {\n",
              "      margin-bottom: 4px;\n",
              "    }\n",
              "\n",
              "    [theme=dark] .colab-df-convert {\n",
              "      background-color: #3B4455;\n",
              "      fill: #D2E3FC;\n",
              "    }\n",
              "\n",
              "    [theme=dark] .colab-df-convert:hover {\n",
              "      background-color: #434B5C;\n",
              "      box-shadow: 0px 1px 3px 1px rgba(0, 0, 0, 0.15);\n",
              "      filter: drop-shadow(0px 1px 2px rgba(0, 0, 0, 0.3));\n",
              "      fill: #FFFFFF;\n",
              "    }\n",
              "  </style>\n",
              "\n",
              "    <script>\n",
              "      const buttonEl =\n",
              "        document.querySelector('#df-f85e377b-0db5-4132-be2a-25fc692ec4c7 button.colab-df-convert');\n",
              "      buttonEl.style.display =\n",
              "        google.colab.kernel.accessAllowed ? 'block' : 'none';\n",
              "\n",
              "      async function convertToInteractive(key) {\n",
              "        const element = document.querySelector('#df-f85e377b-0db5-4132-be2a-25fc692ec4c7');\n",
              "        const dataTable =\n",
              "          await google.colab.kernel.invokeFunction('convertToInteractive',\n",
              "                                                    [key], {});\n",
              "        if (!dataTable) return;\n",
              "\n",
              "        const docLinkHtml = 'Like what you see? Visit the ' +\n",
              "          '<a target=\"_blank\" href=https://colab.research.google.com/notebooks/data_table.ipynb>data table notebook</a>'\n",
              "          + ' to learn more about interactive tables.';\n",
              "        element.innerHTML = '';\n",
              "        dataTable['output_type'] = 'display_data';\n",
              "        await google.colab.output.renderOutput(dataTable, element);\n",
              "        const docLink = document.createElement('div');\n",
              "        docLink.innerHTML = docLinkHtml;\n",
              "        element.appendChild(docLink);\n",
              "      }\n",
              "    </script>\n",
              "  </div>\n",
              "\n",
              "\n",
              "<div id=\"df-b63714a5-9021-464a-8962-150532cd753b\">\n",
              "  <button class=\"colab-df-quickchart\" onclick=\"quickchart('df-b63714a5-9021-464a-8962-150532cd753b')\"\n",
              "            title=\"Suggest charts.\"\n",
              "            style=\"display:none;\">\n",
              "\n",
              "<svg xmlns=\"http://www.w3.org/2000/svg\" height=\"24px\"viewBox=\"0 0 24 24\"\n",
              "     width=\"24px\">\n",
              "    <g>\n",
              "        <path d=\"M19 3H5c-1.1 0-2 .9-2 2v14c0 1.1.9 2 2 2h14c1.1 0 2-.9 2-2V5c0-1.1-.9-2-2-2zM9 17H7v-7h2v7zm4 0h-2V7h2v10zm4 0h-2v-4h2v4z\"/>\n",
              "    </g>\n",
              "</svg>\n",
              "  </button>\n",
              "\n",
              "<style>\n",
              "  .colab-df-quickchart {\n",
              "      --bg-color: #E8F0FE;\n",
              "      --fill-color: #1967D2;\n",
              "      --hover-bg-color: #E2EBFA;\n",
              "      --hover-fill-color: #174EA6;\n",
              "      --disabled-fill-color: #AAA;\n",
              "      --disabled-bg-color: #DDD;\n",
              "  }\n",
              "\n",
              "  [theme=dark] .colab-df-quickchart {\n",
              "      --bg-color: #3B4455;\n",
              "      --fill-color: #D2E3FC;\n",
              "      --hover-bg-color: #434B5C;\n",
              "      --hover-fill-color: #FFFFFF;\n",
              "      --disabled-bg-color: #3B4455;\n",
              "      --disabled-fill-color: #666;\n",
              "  }\n",
              "\n",
              "  .colab-df-quickchart {\n",
              "    background-color: var(--bg-color);\n",
              "    border: none;\n",
              "    border-radius: 50%;\n",
              "    cursor: pointer;\n",
              "    display: none;\n",
              "    fill: var(--fill-color);\n",
              "    height: 32px;\n",
              "    padding: 0;\n",
              "    width: 32px;\n",
              "  }\n",
              "\n",
              "  .colab-df-quickchart:hover {\n",
              "    background-color: var(--hover-bg-color);\n",
              "    box-shadow: 0 1px 2px rgba(60, 64, 67, 0.3), 0 1px 3px 1px rgba(60, 64, 67, 0.15);\n",
              "    fill: var(--button-hover-fill-color);\n",
              "  }\n",
              "\n",
              "  .colab-df-quickchart-complete:disabled,\n",
              "  .colab-df-quickchart-complete:disabled:hover {\n",
              "    background-color: var(--disabled-bg-color);\n",
              "    fill: var(--disabled-fill-color);\n",
              "    box-shadow: none;\n",
              "  }\n",
              "\n",
              "  .colab-df-spinner {\n",
              "    border: 2px solid var(--fill-color);\n",
              "    border-color: transparent;\n",
              "    border-bottom-color: var(--fill-color);\n",
              "    animation:\n",
              "      spin 1s steps(1) infinite;\n",
              "  }\n",
              "\n",
              "  @keyframes spin {\n",
              "    0% {\n",
              "      border-color: transparent;\n",
              "      border-bottom-color: var(--fill-color);\n",
              "      border-left-color: var(--fill-color);\n",
              "    }\n",
              "    20% {\n",
              "      border-color: transparent;\n",
              "      border-left-color: var(--fill-color);\n",
              "      border-top-color: var(--fill-color);\n",
              "    }\n",
              "    30% {\n",
              "      border-color: transparent;\n",
              "      border-left-color: var(--fill-color);\n",
              "      border-top-color: var(--fill-color);\n",
              "      border-right-color: var(--fill-color);\n",
              "    }\n",
              "    40% {\n",
              "      border-color: transparent;\n",
              "      border-right-color: var(--fill-color);\n",
              "      border-top-color: var(--fill-color);\n",
              "    }\n",
              "    60% {\n",
              "      border-color: transparent;\n",
              "      border-right-color: var(--fill-color);\n",
              "    }\n",
              "    80% {\n",
              "      border-color: transparent;\n",
              "      border-right-color: var(--fill-color);\n",
              "      border-bottom-color: var(--fill-color);\n",
              "    }\n",
              "    90% {\n",
              "      border-color: transparent;\n",
              "      border-bottom-color: var(--fill-color);\n",
              "    }\n",
              "  }\n",
              "</style>\n",
              "\n",
              "  <script>\n",
              "    async function quickchart(key) {\n",
              "      const quickchartButtonEl =\n",
              "        document.querySelector('#' + key + ' button');\n",
              "      quickchartButtonEl.disabled = true;  // To prevent multiple clicks.\n",
              "      quickchartButtonEl.classList.add('colab-df-spinner');\n",
              "      try {\n",
              "        const charts = await google.colab.kernel.invokeFunction(\n",
              "            'suggestCharts', [key], {});\n",
              "      } catch (error) {\n",
              "        console.error('Error during call to suggestCharts:', error);\n",
              "      }\n",
              "      quickchartButtonEl.classList.remove('colab-df-spinner');\n",
              "      quickchartButtonEl.classList.add('colab-df-quickchart-complete');\n",
              "    }\n",
              "    (() => {\n",
              "      let quickchartButtonEl =\n",
              "        document.querySelector('#df-b63714a5-9021-464a-8962-150532cd753b button');\n",
              "      quickchartButtonEl.style.display =\n",
              "        google.colab.kernel.accessAllowed ? 'block' : 'none';\n",
              "    })();\n",
              "  </script>\n",
              "</div>\n",
              "    </div>\n",
              "  </div>\n"
            ]
          },
          "metadata": {},
          "execution_count": 25
        }
      ]
    },
    {
      "cell_type": "markdown",
      "source": [
        "# Data Cleaning"
      ],
      "metadata": {
        "id": "cnia_r_5JJyI"
      }
    },
    {
      "cell_type": "markdown",
      "source": [
        "#### Duplikasi Data"
      ],
      "metadata": {
        "id": "crjQJ6LqXIWs"
      }
    },
    {
      "cell_type": "code",
      "source": [
        "duplicate_rows = df[df.duplicated()]\n",
        "\n",
        "# Menampilkan baris-baris yang merupakan duplikasi\n",
        "print(\"Duplikasi Data:\")\n",
        "print(duplicate_rows)\n",
        "\n",
        "# Menampilkan jumlah duplikasi\n",
        "print(\"Jumlah Duplikasi:\", len(duplicate_rows))"
      ],
      "metadata": {
        "colab": {
          "base_uri": "https://localhost:8080/"
        },
        "id": "uGfF91AhCXom",
        "outputId": "97f64b01-b7c0-4868-ccc8-1afbdba9af9e"
      },
      "execution_count": null,
      "outputs": [
        {
          "output_type": "stream",
          "name": "stdout",
          "text": [
            "Duplikasi Data:\n",
            "Empty DataFrame\n",
            "Columns: [track_name, artist_name, artist_pop, album, track_pop, danceability, energy, loudness, mode, key, speechiness, acousticness, instrumentalness, liveness, valence, tempo, time_signature, duration_ms]\n",
            "Index: []\n",
            "Jumlah Duplikasi: 0\n"
          ]
        }
      ]
    },
    {
      "cell_type": "markdown",
      "source": [
        "#### Data yang memiliki nilai nol"
      ],
      "metadata": {
        "id": "7XDLPcKRXLwq"
      }
    },
    {
      "cell_type": "code",
      "source": [
        "# Pengecekan data kosong\n",
        "missing_data = df.isnull()\n",
        "\n",
        "# Menampilkan DataFrame yang menunjukkan True pada nilai kosong\n",
        "print(\"Data Kosong:\")\n",
        "print(missing_data)\n",
        "\n",
        "# Menampilkan jumlah data kosong per kolom\n",
        "missing_count = df.isnull().sum()\n",
        "print(\"Jumlah Data Kosong per Kolom:\")\n",
        "print(missing_count)\n",
        "\n",
        "# Menampilkan jumlah total data kosong dalam DataFrame\n",
        "total_missing_count = df.isnull().sum().sum()\n",
        "print(\"Jumlah Total Data Kosong:\", total_missing_count)"
      ],
      "metadata": {
        "colab": {
          "base_uri": "https://localhost:8080/"
        },
        "id": "vQBcQz5fCfka",
        "outputId": "f5d22025-5826-46e1-e3e8-93e494ac893a"
      },
      "execution_count": null,
      "outputs": [
        {
          "output_type": "stream",
          "name": "stdout",
          "text": [
            "Data Kosong:\n",
            "     track_name  artist_name  artist_pop  album  track_pop  danceability  \\\n",
            "0         False        False       False  False      False         False   \n",
            "1         False        False       False  False      False         False   \n",
            "2         False        False       False  False      False         False   \n",
            "3         False        False       False  False      False         False   \n",
            "4         False        False       False  False      False         False   \n",
            "..          ...          ...         ...    ...        ...           ...   \n",
            "258       False        False       False  False      False         False   \n",
            "259       False        False       False  False      False         False   \n",
            "260       False        False       False  False      False         False   \n",
            "261       False        False       False  False      False         False   \n",
            "262       False        False       False  False      False         False   \n",
            "\n",
            "     energy  loudness   mode    key  speechiness  acousticness  \\\n",
            "0     False     False  False  False        False         False   \n",
            "1     False     False  False  False        False         False   \n",
            "2     False     False  False  False        False         False   \n",
            "3     False     False  False  False        False         False   \n",
            "4     False     False  False  False        False         False   \n",
            "..      ...       ...    ...    ...          ...           ...   \n",
            "258   False     False  False  False        False         False   \n",
            "259   False     False  False  False        False         False   \n",
            "260   False     False  False  False        False         False   \n",
            "261   False     False  False  False        False         False   \n",
            "262   False     False  False  False        False         False   \n",
            "\n",
            "     instrumentalness  liveness  valence  tempo  time_signature  duration_ms  \n",
            "0               False     False    False  False           False        False  \n",
            "1               False     False    False  False           False        False  \n",
            "2               False     False    False  False           False        False  \n",
            "3               False     False    False  False           False        False  \n",
            "4               False     False    False  False           False        False  \n",
            "..                ...       ...      ...    ...             ...          ...  \n",
            "258             False     False    False  False           False        False  \n",
            "259             False     False    False  False           False        False  \n",
            "260             False     False    False  False           False        False  \n",
            "261             False     False    False  False           False        False  \n",
            "262             False     False    False  False           False        False  \n",
            "\n",
            "[263 rows x 18 columns]\n",
            "Jumlah Data Kosong per Kolom:\n",
            "track_name          0\n",
            "artist_name         0\n",
            "artist_pop          0\n",
            "album               0\n",
            "track_pop           0\n",
            "danceability        0\n",
            "energy              0\n",
            "loudness            0\n",
            "mode                0\n",
            "key                 0\n",
            "speechiness         0\n",
            "acousticness        0\n",
            "instrumentalness    0\n",
            "liveness            0\n",
            "valence             0\n",
            "tempo               0\n",
            "time_signature      0\n",
            "duration_ms         0\n",
            "dtype: int64\n",
            "Jumlah Total Data Kosong: 0\n"
          ]
        }
      ]
    },
    {
      "cell_type": "code",
      "source": [
        "track_nol = (df['track_pop'] == 0).sum()\n",
        "print(track_nol)"
      ],
      "metadata": {
        "colab": {
          "base_uri": "https://localhost:8080/"
        },
        "id": "f0kkQvK5DEBf",
        "outputId": "9f9151bb-8a38-4f57-b613-d634d3b39e3c"
      },
      "execution_count": null,
      "outputs": [
        {
          "output_type": "stream",
          "name": "stdout",
          "text": [
            "13\n"
          ]
        }
      ]
    },
    {
      "cell_type": "code",
      "source": [
        "# Menghapus kolom dengan semua nilai 0\n",
        "df = df.loc[df.track_pop != 0]\n",
        "\n",
        "# Menampilkan DataFrame yang sudah diubah\n",
        "print(df)"
      ],
      "metadata": {
        "colab": {
          "base_uri": "https://localhost:8080/"
        },
        "id": "WL2jKoOMEpbC",
        "outputId": "f3e84172-385f-4ebd-cce2-c375821fa594"
      },
      "execution_count": null,
      "outputs": [
        {
          "output_type": "stream",
          "name": "stdout",
          "text": [
            "                                 track_name      artist_name  artist_pop  \\\n",
            "0    Running Up That Hill (A Deal With God)        Kate Bush          81   \n",
            "1                                 As It Was     Harry Styles          91   \n",
            "2                                   Sunroof      Nicky Youre          73   \n",
            "3                                Heat Waves    Glass Animals          80   \n",
            "4                           About Damn Time            Lizzo          81   \n",
            "..                                      ...              ...         ...   \n",
            "258              The Less I Know The Better      Tame Impala          78   \n",
            "259                              Dandelions          Ruth B.          75   \n",
            "260           Jimmy Cooks (feat. 21 Savage)            Drake          95   \n",
            "261                            Good Looking  Suki Waterhouse          64   \n",
            "262                                 INFERNO        Sub Urban          67   \n",
            "\n",
            "                          album  track_pop  danceability  energy  loudness  \\\n",
            "0                Hounds Of Love         95         0.629   0.547   -13.123   \n",
            "1                     As It Was         96         0.520   0.731    -5.338   \n",
            "2                       Sunroof         44         0.768   0.716    -5.110   \n",
            "3    Dreamland (+ Bonus Levels)         89         0.761   0.525    -6.900   \n",
            "4               About Damn Time         92         0.836   0.743    -6.305   \n",
            "..                          ...        ...           ...     ...       ...   \n",
            "258                    Currents         84         0.640   0.740    -4.083   \n",
            "259                  Safe Haven         90         0.609   0.692    -2.958   \n",
            "260         Honestly, Nevermind         92         0.529   0.673    -4.711   \n",
            "261                Good Looking         80         0.377   0.558    -9.076   \n",
            "262                     INFERNO         71         0.820   0.611    -5.020   \n",
            "\n",
            "     mode  key  speechiness  acousticness  instrumentalness  liveness  \\\n",
            "0       0   10       0.0550      0.720000          0.003140    0.0604   \n",
            "1       0    6       0.0557      0.342000          0.001010    0.3110   \n",
            "2       1   10       0.0404      0.350000          0.000000    0.1500   \n",
            "3       1   11       0.0944      0.440000          0.000007    0.0921   \n",
            "4       0   10       0.0656      0.099500          0.000000    0.3350   \n",
            "..    ...  ...          ...           ...               ...       ...   \n",
            "258     1    4       0.0284      0.011500          0.006780    0.1670   \n",
            "259     1    1       0.0259      0.015700          0.000000    0.0864   \n",
            "260     1    0       0.1750      0.000307          0.000002    0.0930   \n",
            "261     1    4       0.0299      0.078900          0.000342    0.1250   \n",
            "262     0    9       0.1220      0.076600          0.000025    0.0684   \n",
            "\n",
            "     valence    tempo  time_signature  duration_ms  \n",
            "0      0.197  108.375               4       298933  \n",
            "1      0.662  173.930               4       167303  \n",
            "2      0.841  131.430               4       163026  \n",
            "3      0.531   80.870               4       238805  \n",
            "4      0.722  108.966               4       191822  \n",
            "..       ...      ...             ...          ...  \n",
            "258    0.785  116.879               4       216320  \n",
            "259    0.454  116.959               3       233720  \n",
            "260    0.366  165.921               4       218365  \n",
            "261    0.267  149.971               3       214800  \n",
            "262    0.637  127.883               4       133134  \n",
            "\n",
            "[250 rows x 18 columns]\n"
          ]
        }
      ]
    },
    {
      "cell_type": "code",
      "source": [
        "angka_nol = df[df['instrumentalness'] == 0]\n",
        "print(angka_nol)"
      ],
      "metadata": {
        "id": "PoFU02FjCFdm",
        "colab": {
          "base_uri": "https://localhost:8080/"
        },
        "outputId": "9eb915c5-48ef-4cb7-a8fa-851f45fd4fe8"
      },
      "execution_count": null,
      "outputs": [
        {
          "output_type": "stream",
          "name": "stdout",
          "text": [
            "                                            track_name      artist_name  \\\n",
            "2                                              Sunroof      Nicky Youre   \n",
            "4                                      About Damn Time            Lizzo   \n",
            "7                            STAY (with Justin Bieber)    The Kid LAROI   \n",
            "8    Enemy (with JID) - from the series Arcane Leag...  Imagine Dragons   \n",
            "12                                             abcdefu            GAYLE   \n",
            "..                                                 ...              ...   \n",
            "249                                    hot girl bummer        blackbear   \n",
            "250                                             Demons              CPX   \n",
            "251   Girls Like You (feat. Cardi B) - Cardi B Version         Maroon 5   \n",
            "253                                          Plug Walk     Rich The Kid   \n",
            "259                                         Dandelions          Ruth B.   \n",
            "\n",
            "     artist_pop                                              album  track_pop  \\\n",
            "2            73                                            Sunroof         44   \n",
            "4            81                                    About Damn Time         92   \n",
            "7            83                          STAY (with Justin Bieber)         89   \n",
            "8            88  Enemy (with JID) [from the series Arcane Leagu...         87   \n",
            "12           71                                            abcdefu         87   \n",
            "..          ...                                                ...        ...   \n",
            "249          80                                    hot girl bummer          5   \n",
            "250          52                                             Demons         56   \n",
            "251          85                            Red Pill Blues (Deluxe)         74   \n",
            "253          67                                 The World Is Yours         70   \n",
            "259          75                                         Safe Haven         90   \n",
            "\n",
            "     danceability  energy  loudness  mode  key  speechiness  acousticness  \\\n",
            "2           0.768   0.716    -5.110     1   10       0.0404        0.3500   \n",
            "4           0.836   0.743    -6.305     0   10       0.0656        0.0995   \n",
            "7           0.591   0.764    -5.484     1    1       0.0483        0.0383   \n",
            "8           0.728   0.783    -4.424     0   11       0.2660        0.2370   \n",
            "12          0.695   0.540    -5.692     1    4       0.0493        0.2990   \n",
            "..            ...     ...       ...   ...  ...          ...           ...   \n",
            "249         0.778   0.559    -7.109     0    6       0.0776        0.1280   \n",
            "250         0.700   0.848    -5.473     1    8       0.2170        0.3170   \n",
            "251         0.851   0.541    -6.825     1    0       0.0505        0.5680   \n",
            "253         0.876   0.519    -6.531     1   11       0.1430        0.2020   \n",
            "259         0.609   0.692    -2.958     1    1       0.0259        0.0157   \n",
            "\n",
            "     instrumentalness  liveness  valence    tempo  time_signature  duration_ms  \n",
            "2                 0.0    0.1500    0.841  131.430               4       163026  \n",
            "4                 0.0    0.3350    0.722  108.966               4       191822  \n",
            "7                 0.0    0.1030    0.478  169.928               4       141806  \n",
            "8                 0.0    0.4340    0.555   77.011               4       173381  \n",
            "12                0.0    0.3670    0.415  121.932               4       168602  \n",
            "..                ...       ...      ...      ...             ...          ...  \n",
            "249               0.0    0.3990    0.678  129.989               1       185093  \n",
            "250               0.0    0.3490    0.290  124.056               4       129693  \n",
            "251               0.0    0.1300    0.448  124.959               4       235545  \n",
            "253               0.0    0.1080    0.158   94.981               4       175230  \n",
            "259               0.0    0.0864    0.454  116.959               3       233720  \n",
            "\n",
            "[113 rows x 18 columns]\n"
          ]
        }
      ]
    },
    {
      "cell_type": "code",
      "source": [
        "#untuk menggantikan (imputasi) nilai-nilai yang hilang dalam suatu kolom dgn nilai yang sesuai dari kolom yang sama\n",
        "def hotdeck_imput(column):\n",
        "  nozero = column[column != 0]\n",
        "  if not nozero.empty:\n",
        "    return np.random.choice(nozero)\n",
        "  else:\n",
        "    return np.nan"
      ],
      "metadata": {
        "id": "KXd4_4bYHzEx"
      },
      "execution_count": null,
      "outputs": []
    },
    {
      "cell_type": "code",
      "source": [
        "df['instrumentalness'] = df['instrumentalness'].apply(lambda x: hotdeck_imput(df['instrumentalness']) if x == 0 else x)"
      ],
      "metadata": {
        "id": "-Dm6iMiKJ0S_",
        "colab": {
          "base_uri": "https://localhost:8080/"
        },
        "outputId": "3f48979c-d998-4896-8f01-47f70214a6e7"
      },
      "execution_count": null,
      "outputs": [
        {
          "output_type": "stream",
          "name": "stderr",
          "text": [
            "<ipython-input-243-229bc8cc8abc>:1: SettingWithCopyWarning: \n",
            "A value is trying to be set on a copy of a slice from a DataFrame.\n",
            "Try using .loc[row_indexer,col_indexer] = value instead\n",
            "\n",
            "See the caveats in the documentation: https://pandas.pydata.org/pandas-docs/stable/user_guide/indexing.html#returning-a-view-versus-a-copy\n",
            "  df['instrumentalness'] = df['instrumentalness'].apply(lambda x: hotdeck_imput(df['instrumentalness']) if x == 0 else x)\n"
          ]
        }
      ]
    },
    {
      "cell_type": "code",
      "source": [
        "print(df)"
      ],
      "metadata": {
        "colab": {
          "base_uri": "https://localhost:8080/"
        },
        "id": "q76hqembjEIP",
        "outputId": "3ea1e493-6f20-4a4d-9ee7-02830c233a57"
      },
      "execution_count": null,
      "outputs": [
        {
          "output_type": "stream",
          "name": "stdout",
          "text": [
            "                                 track_name      artist_name  artist_pop  \\\n",
            "0    Running Up That Hill (A Deal With God)        Kate Bush          81   \n",
            "1                                 As It Was     Harry Styles          91   \n",
            "2                                   Sunroof      Nicky Youre          73   \n",
            "3                                Heat Waves    Glass Animals          80   \n",
            "4                           About Damn Time            Lizzo          81   \n",
            "..                                      ...              ...         ...   \n",
            "258              The Less I Know The Better      Tame Impala          78   \n",
            "259                              Dandelions          Ruth B.          75   \n",
            "260           Jimmy Cooks (feat. 21 Savage)            Drake          95   \n",
            "261                            Good Looking  Suki Waterhouse          64   \n",
            "262                                 INFERNO        Sub Urban          67   \n",
            "\n",
            "                          album  track_pop  danceability  energy  loudness  \\\n",
            "0                Hounds Of Love         95         0.629   0.547   -13.123   \n",
            "1                     As It Was         96         0.520   0.731    -5.338   \n",
            "2                       Sunroof         44         0.768   0.716    -5.110   \n",
            "3    Dreamland (+ Bonus Levels)         89         0.761   0.525    -6.900   \n",
            "4               About Damn Time         92         0.836   0.743    -6.305   \n",
            "..                          ...        ...           ...     ...       ...   \n",
            "258                    Currents         84         0.640   0.740    -4.083   \n",
            "259                  Safe Haven         90         0.609   0.692    -2.958   \n",
            "260         Honestly, Nevermind         92         0.529   0.673    -4.711   \n",
            "261                Good Looking         80         0.377   0.558    -9.076   \n",
            "262                     INFERNO         71         0.820   0.611    -5.020   \n",
            "\n",
            "     mode  key  speechiness  acousticness  instrumentalness  liveness  \\\n",
            "0       0   10       0.0550      0.720000          0.003140    0.0604   \n",
            "1       0    6       0.0557      0.342000          0.001010    0.3110   \n",
            "2       1   10       0.0404      0.350000          0.000017    0.1500   \n",
            "3       1   11       0.0944      0.440000          0.000007    0.0921   \n",
            "4       0   10       0.0656      0.099500          0.000010    0.3350   \n",
            "..    ...  ...          ...           ...               ...       ...   \n",
            "258     1    4       0.0284      0.011500          0.006780    0.1670   \n",
            "259     1    1       0.0259      0.015700          0.001560    0.0864   \n",
            "260     1    0       0.1750      0.000307          0.000002    0.0930   \n",
            "261     1    4       0.0299      0.078900          0.000342    0.1250   \n",
            "262     0    9       0.1220      0.076600          0.000025    0.0684   \n",
            "\n",
            "     valence    tempo  time_signature  duration_ms  \n",
            "0      0.197  108.375               4       298933  \n",
            "1      0.662  173.930               4       167303  \n",
            "2      0.841  131.430               4       163026  \n",
            "3      0.531   80.870               4       238805  \n",
            "4      0.722  108.966               4       191822  \n",
            "..       ...      ...             ...          ...  \n",
            "258    0.785  116.879               4       216320  \n",
            "259    0.454  116.959               3       233720  \n",
            "260    0.366  165.921               4       218365  \n",
            "261    0.267  149.971               3       214800  \n",
            "262    0.637  127.883               4       133134  \n",
            "\n",
            "[250 rows x 18 columns]\n"
          ]
        }
      ]
    },
    {
      "cell_type": "code",
      "source": [
        "def transform_key(key):\n",
        "    if 0 <= key <= 11:\n",
        "        return key\n",
        "    else:\n",
        "        return -1\n",
        "\n",
        "# Menggunakan metode .apply() untuk mengubah nilai kolom 'key'\n",
        "df['key'] = df['key'].apply(transform_key)"
      ],
      "metadata": {
        "id": "-pniqhqdVVOo",
        "colab": {
          "base_uri": "https://localhost:8080/"
        },
        "outputId": "645d8d72-c259-495d-c7be-73b6cf549513"
      },
      "execution_count": null,
      "outputs": [
        {
          "output_type": "stream",
          "name": "stderr",
          "text": [
            "<ipython-input-245-b912f84ff8ae>:8: SettingWithCopyWarning: \n",
            "A value is trying to be set on a copy of a slice from a DataFrame.\n",
            "Try using .loc[row_indexer,col_indexer] = value instead\n",
            "\n",
            "See the caveats in the documentation: https://pandas.pydata.org/pandas-docs/stable/user_guide/indexing.html#returning-a-view-versus-a-copy\n",
            "  df['key'] = df['key'].apply(transform_key)\n"
          ]
        }
      ]
    },
    {
      "cell_type": "code",
      "source": [
        "import pandas as pd\n",
        "from sklearn.preprocessing import MinMaxScaler"
      ],
      "metadata": {
        "id": "tb3pTNCpH2fb"
      },
      "execution_count": null,
      "outputs": []
    },
    {
      "cell_type": "code",
      "source": [
        "# Pilih kolom-kolom yang perlu dinormalisasi\n",
        "columns_to_normalize = ['artist_pop', 'track_pop', 'danceability', 'energy', 'loudness', 'mode', 'key',\n",
        "                       'speechiness', 'acousticness', 'instrumentalness', 'liveness',\n",
        "                       'valence', 'tempo', 'time_signature', 'duration_ms']\n",
        "\n",
        "# Inisialisasi MinMaxScaler\n",
        "scaler = MinMaxScaler()\n",
        "\n",
        "# Normalisasi kolom-kolom yang dipilih\n",
        "df[columns_to_normalize] = scaler.fit_transform(df[columns_to_normalize])\n",
        "\n",
        "# DataFrame 'df' sekarang berisi data yang sudah dinormalisasi dalam rentang 0 hingga 1"
      ],
      "metadata": {
        "id": "Xvz0BHn0SomI",
        "colab": {
          "base_uri": "https://localhost:8080/"
        },
        "outputId": "aac8f245-ab4c-449b-8689-55fc2d62a8ed"
      },
      "execution_count": null,
      "outputs": [
        {
          "output_type": "stream",
          "name": "stderr",
          "text": [
            "<ipython-input-247-a1e693587df8>:10: SettingWithCopyWarning: \n",
            "A value is trying to be set on a copy of a slice from a DataFrame.\n",
            "Try using .loc[row_indexer,col_indexer] = value instead\n",
            "\n",
            "See the caveats in the documentation: https://pandas.pydata.org/pandas-docs/stable/user_guide/indexing.html#returning-a-view-versus-a-copy\n",
            "  df[columns_to_normalize] = scaler.fit_transform(df[columns_to_normalize])\n"
          ]
        }
      ]
    },
    {
      "cell_type": "code",
      "source": [
        "# Simpan DataFrame yang sudah dibersihkan ke dalam file CSV di Google Drive\n",
        "df.to_csv('/content/drive/MyDrive/Machine Learning/data_cleaned.csv', index=False)"
      ],
      "metadata": {
        "id": "r9xm796MUhr0"
      },
      "execution_count": null,
      "outputs": []
    },
    {
      "cell_type": "markdown",
      "source": [
        "# EDA"
      ],
      "metadata": {
        "id": "iKAJdzugJxdn"
      }
    },
    {
      "cell_type": "code",
      "source": [
        "df = pd.read_csv(\"/content/drive/MyDrive/data_final_tiktok.csv\")"
      ],
      "metadata": {
        "id": "2otbIoFRbnDD"
      },
      "execution_count": null,
      "outputs": []
    },
    {
      "cell_type": "code",
      "source": [
        "#3 artis dengan popularitas tinggi\n",
        "top_3_artist = df[[\"artist_name\",\"artist_pop\"]].sort_values('artist_pop',ascending=False)\n",
        "top_3_artist = top_3_artist.artist_name.unique()[:3]\n",
        "top_3_artist"
      ],
      "metadata": {
        "colab": {
          "base_uri": "https://localhost:8080/"
        },
        "id": "flIEfIbAMtD_",
        "outputId": "0019a2c9-4aaa-4ceb-928c-e05885538b29"
      },
      "execution_count": null,
      "outputs": [
        {
          "output_type": "execute_result",
          "data": {
            "text/plain": [
              "array(['Drake', 'The Weeknd', 'Harry Styles'], dtype=object)"
            ]
          },
          "metadata": {},
          "execution_count": 252
        }
      ]
    },
    {
      "cell_type": "code",
      "source": [
        "#5lagu paling hits di tiktok tahun 2022\n",
        "top_5_song = df[[\"track_name\",\"track_pop\"]].sort_values('track_pop',ascending=False)\n",
        "top_5_song = top_5_song.track_name.unique()[:5]\n",
        "top_5_song"
      ],
      "metadata": {
        "colab": {
          "base_uri": "https://localhost:8080/"
        },
        "id": "Mkoo_-TNQ4Jh",
        "outputId": "80e70742-d9fc-4dd8-deaf-c3409b259f7c"
      },
      "execution_count": null,
      "outputs": [
        {
          "output_type": "execute_result",
          "data": {
            "text/plain": [
              "array(['Glimpse of Us', 'As It Was',\n",
              "       'Running Up That Hill (A Deal With God)', 'Late Night Talking',\n",
              "       'Jimmy Cooks (feat. 21 Savage)'], dtype=object)"
            ]
          },
          "metadata": {},
          "execution_count": 253
        }
      ]
    },
    {
      "cell_type": "code",
      "source": [
        "#10 lagu yang paling cocok untuk video terkait olahraga\n",
        "top_10_sport = df.sort_values(by=['danceability', 'energy', 'tempo', 'loudness', 'valence'], ascending=[False, True, False, True, False])\n",
        "top10_sport = top_10_sport.head(10)\n",
        "print(top10_sport[['track_name', 'artist_name','danceability', 'energy', 'tempo', 'loudness', 'valence']])"
      ],
      "metadata": {
        "colab": {
          "base_uri": "https://localhost:8080/"
        },
        "id": "TyK_6wFZRXGL",
        "outputId": "140f9cbb-7973-482f-83d9-1cb4270edce1"
      },
      "execution_count": null,
      "outputs": [
        {
          "output_type": "stream",
          "name": "stdout",
          "text": [
            "                          track_name          artist_name  danceability  \\\n",
            "189    Don't Rush (feat. Headie One)     Young T & Bugsey      1.000000   \n",
            "198                           Tap In             Saweetie      0.989280   \n",
            "108                        Thot Shit  Megan Thee Stallion      0.983155   \n",
            "127     Bundles (feat. Taylor Girlz)         Kayla Nicole      0.966309   \n",
            "160  WAP (feat. Megan Thee Stallion)              Cardi B      0.960184   \n",
            "188                            Renee                SALES      0.943338   \n",
            "217                     WHATS POPPIN          Jack Harlow      0.941807   \n",
            "131                 Calling My Phone             Lil Tjay      0.917305   \n",
            "9                        First Class          Jack Harlow      0.914242   \n",
            "206                          The Box          Roddy Ricch      0.900459   \n",
            "\n",
            "       energy     tempo  loudness   valence  \n",
            "189  0.333333  0.360761  0.441573  0.312819  \n",
            "198  0.650472  0.296804  0.586210  0.430249  \n",
            "108  0.646424  0.536756  0.927081  0.929325  \n",
            "127  0.631579  0.536772  0.695680  0.595520  \n",
            "160  0.323887  0.561189  0.550028  0.348701  \n",
            "188  0.232119  0.368196  0.487816  0.421551  \n",
            "217  0.526316  0.657133  0.627377  0.858650  \n",
            "131  0.241565  0.336121  0.538305  0.180167  \n",
            "9    0.470985  0.352518  0.676851  0.312819  \n",
            "206  0.502024  0.432329  0.625900  0.658584  \n"
          ]
        }
      ]
    },
    {
      "cell_type": "code",
      "source": [
        "#3 artis dengan lagu hits paling banyak\n",
        "top_3_hits = df['artist_name'].value_counts()\n",
        "top_3_arthits = top_3_hits.head(3)\n",
        "print(top_3_arthits)"
      ],
      "metadata": {
        "colab": {
          "base_uri": "https://localhost:8080/"
        },
        "id": "6C6wXO73Wgpc",
        "outputId": "bdd7a709-4ffe-4f86-9be6-f6ea70c67764"
      },
      "execution_count": null,
      "outputs": [
        {
          "output_type": "stream",
          "name": "stdout",
          "text": [
            "Doja Cat     8\n",
            "Coopex       5\n",
            "Dame Dame    5\n",
            "Name: artist_name, dtype: int64\n"
          ]
        }
      ]
    },
    {
      "cell_type": "code",
      "source": [
        "#5 lagu populer untuk menggalau?\n",
        "top_5_galau=df[(df['tempo']<=122.883696) & (df['danceability'] <= 0.715338) & (df['energy']<= 0.682631) & (df['acousticness']<=0.020244)]\n",
        "top_5_galau = top_5_galau.head(5)\n",
        "print(top_5_galau[['track_name', 'artist_name', 'tempo','danceability','energy','acousticness']])"
      ],
      "metadata": {
        "id": "PZeKNdRAsTXq",
        "colab": {
          "base_uri": "https://localhost:8080/"
        },
        "outputId": "756ed322-a0bb-41cf-e99c-e90d93bee6de"
      },
      "execution_count": null,
      "outputs": [
        {
          "output_type": "stream",
          "name": "stdout",
          "text": [
            "                                     track_name  artist_name     tempo  \\\n",
            "18          Flex On My Ex (with Bankrol Hayden)     KillBunk  0.178756   \n",
            "24                                        Oh No       Kreepa  0.905704   \n",
            "36                          Meet Me At Our Spot  THE ANXIETY  0.256462   \n",
            "100  Better Days (NEIKED x Mae Muller x Polo G)       NEIKED  0.376975   \n",
            "177                                 Without You    Baby Bluu  0.457522   \n",
            "\n",
            "     danceability    energy  acousticness  \n",
            "18       0.476263  0.665317      0.006188  \n",
            "24       0.356815  0.422402      0.002852  \n",
            "36       0.712098  0.345479      0.015816  \n",
            "100      0.626340  0.616734      0.001826  \n",
            "177      0.485452  0.653171      0.011049  \n"
          ]
        }
      ]
    },
    {
      "cell_type": "markdown",
      "source": [
        "# Korelasi atribut prediktor dengan kolom track_pop"
      ],
      "metadata": {
        "id": "crsxVYWzz5UT"
      }
    },
    {
      "cell_type": "markdown",
      "source": [
        "###### Scatter Plot"
      ],
      "metadata": {
        "id": "hGeXKBicWIR5"
      }
    },
    {
      "cell_type": "code",
      "source": [
        "atribut_prediktor = ['artist_pop', 'danceability', 'energy', 'tempo', 'loudness', 'valence']\n",
        "kolom_target = 'track_pop'\n",
        "for atribut in atribut_prediktor:\n",
        "    plt.figure(figsize=(8, 6))  # Ukuran gambar\n",
        "    plt.scatter(df[atribut], df[kolom_target], alpha=0.5,label='Data Points')  # Membuat scatter plot\n",
        "    plt.title(f'Scatter Plot antara {atribut} dan {kolom_target}',fontsize = 20)  # Judul grafik\n",
        "    m, c = np.polyfit(df[atribut], df[kolom_target], 1)  # Mendapatkan kemiringan (m) dan intercept (c)\n",
        "    x = np.array(df[atribut])\n",
        "    y = m * x + c\n",
        "    plt.plot(x, y, color='pink', label=f'Regresi Linear (y = {m:.2f}x + {c:.2f})')\n",
        "    plt.xlabel(atribut)  # Label sumbu x\n",
        "    plt.ylabel(kolom_target)  # Label sumbu y\n",
        "    plt.show()  # Tampilkan scatter plot"
      ],
      "metadata": {
        "colab": {
          "base_uri": "https://localhost:8080/",
          "height": 1000
        },
        "id": "NJdpnVcO0NBP",
        "outputId": "1cbfda6d-9f6e-4fd6-a517-4984b6c2dbb9"
      },
      "execution_count": null,
      "outputs": [
        {
          "output_type": "display_data",
          "data": {
            "text/plain": [
              "<Figure size 800x600 with 1 Axes>"
            ],
            "image/png": "[encoded data removed]"
          },
          "metadata": {}
        },
        {
          "output_type": "display_data",
          "data": {
            "text/plain": [
              "<Figure size 800x600 with 1 Axes>"
            ],
            "image/png": "[encoded data removed]"
          },
          "metadata": {}
        },
        {
          "output_type": "display_data",
          "data": {
            "text/plain": [
              "<Figure size 800x600 with 1 Axes>"
            ],
            "image/png": "[encoded data removed]"
          },
          "metadata": {}
        },
        {
          "output_type": "display_data",
          "data": {
            "text/plain": [
              "<Figure size 800x600 with 1 Axes>"
            ],
            "image/png": "[encoded data removed]"
          },
          "metadata": {}
        },
        {
          "output_type": "display_data",
          "data": {
            "text/plain": [
              "<Figure size 800x600 with 1 Axes>"
            ],
            "image/png": "[encoded data removed]"
          },
          "metadata": {}
        },
        {
          "output_type": "display_data",
          "data": {
            "text/plain": [
              "<Figure size 800x600 with 1 Axes>"
            ],
            "image/png": "[encoded data removed]"
          },
          "metadata": {}
        }
      ]
    },
    {
      "cell_type": "markdown",
      "source": [
        "###### Heatmap"
      ],
      "metadata": {
        "id": "lQshspRNWONt"
      }
    },
    {
      "cell_type": "code",
      "source": [
        "# Compute the correlation matrix\n",
        "correlation_matrix = df.corr()\n",
        "#Graph I.\n",
        "plt.figure(figsize=(15, 10))\n",
        "sns.heatmap(correlation_matrix, annot=True, cmap='coolwarm', linewidths=0.5, fmt='.2f')\n",
        "plt.title(\"Correlation Matrix Heatmap\", fontsize = 20)\n",
        "plt.show()\n",
        "\n",
        "\n",
        "#Graph II\n",
        "# Create a heatmap of the correlations with the target column\n",
        "corr = df.corr()\n",
        "target_corr = corr['track_pop'].drop('track_pop')\n",
        "\n",
        "# Sort correlation values in descending order\n",
        "target_corr_sorted = target_corr.sort_values(ascending=False)\n",
        "\n",
        "sns.set(font_scale=0.8)\n",
        "sns.set_style(\"white\")\n",
        "sns.set_palette(\"PuBuGn_d\")\n",
        "sns.heatmap(target_corr_sorted.to_frame(), cmap=\"coolwarm\", annot=True, fmt='.2f')\n",
        "plt.title('Correlation with TRACK POP')\n",
        "plt.show()"
      ],
      "metadata": {
        "colab": {
          "base_uri": "https://localhost:8080/",
          "height": 1000
        },
        "id": "YzfE10_8-RYh",
        "outputId": "e77b1d84-80d7-4c25-eb59-105686a44045"
      },
      "execution_count": null,
      "outputs": [
        {
          "output_type": "stream",
          "name": "stderr",
          "text": [
            "<ipython-input-394-ba3efe33306c>:2: FutureWarning: The default value of numeric_only in DataFrame.corr is deprecated. In a future version, it will default to False. Select only valid columns or specify the value of numeric_only to silence this warning.\n",
            "  correlation_matrix = df.corr()\n"
          ]
        },
        {
          "output_type": "display_data",
          "data": {
            "text/plain": [
              "<Figure size 1500x1000 with 2 Axes>"
            ],
            "image/png": "[encoded data removed]"
          },
          "metadata": {}
        },
        {
          "output_type": "stream",
          "name": "stderr",
          "text": [
            "<ipython-input-394-ba3efe33306c>:12: FutureWarning: The default value of numeric_only in DataFrame.corr is deprecated. In a future version, it will default to False. Select only valid columns or specify the value of numeric_only to silence this warning.\n",
            "  corr = df.corr()\n"
          ]
        },
        {
          "output_type": "display_data",
          "data": {
            "text/plain": [
              "<Figure size 640x480 with 2 Axes>"
            ],
            "image/png": "[encoded data removed]"
          },
          "metadata": {}
        }
      ]
    },
    {
      "cell_type": "code",
      "source": [
        "#grafik 1\n",
        "# Pilih kolom atribut prediktor dan kolom target\n",
        "atribut_prediktor = ['artist_pop', 'duration_ms', 'liveness', 'key']\n",
        "kolom_target = 'track_pop'\n",
        "\n",
        "# Menghitung matriks korelasi\n",
        "correlation_matrix = df[atribut_prediktor + [kolom_target]].corr()\n",
        "\n",
        "# Membuat heatmap korelasi\n",
        "plt.figure(figsize=(5, 4))  # Ukuran gambar\n",
        "sns.heatmap(correlation_matrix, annot=True, cmap='coolwarm', linewidths=0.5, fmt=\".2f\")\n",
        "\n",
        "# Menambahkan judul\n",
        "plt.title('Heatmap Korelasi Atribut Prediktor vs. Atribut Target')\n",
        "\n",
        "# Menampilkan heatmap\n",
        "plt.show()"
      ],
      "metadata": {
        "id": "baEj89mxrW-v",
        "colab": {
          "base_uri": "https://localhost:8080/",
          "height": 452
        },
        "outputId": "fb6d3f16-d4cb-40e9-8485-faf0450b77d3"
      },
      "execution_count": null,
      "outputs": [
        {
          "output_type": "display_data",
          "data": {
            "text/plain": [
              "<Figure size 500x400 with 2 Axes>"
            ],
            "image/png": "[encoded data removed]"
          },
          "metadata": {}
        }
      ]
    },
    {
      "cell_type": "markdown",
      "source": [
        "#Training and Evaluation"
      ],
      "metadata": {
        "id": "qKoixHdm_NtH"
      }
    },
    {
      "cell_type": "code",
      "source": [
        "import numpy as np\n",
        "from sklearn.model_selection import train_test_split\n",
        "from sklearn.linear_model import LinearRegression\n",
        "from sklearn import metrics\n",
        "from sklearn.model_selection import cross_val_score\n",
        "from sklearn.model_selection import KFold\n",
        "from sklearn.metrics import r2_score"
      ],
      "metadata": {
        "id": "YgsWux8I_4gZ"
      },
      "execution_count": null,
      "outputs": []
    },
    {
      "cell_type": "markdown",
      "source": [
        "### SIMPLE LINEAR REGRESSION"
      ],
      "metadata": {
        "id": "c4fLZAcGAwoL"
      }
    },
    {
      "cell_type": "markdown",
      "source": [
        "##### MODEL SIMPLE LINEAR REGRESSION DENGAN ATRIBUT PREDIKTOR \"artist_pop\""
      ],
      "metadata": {
        "id": "3YeLuVt_tRWF"
      }
    },
    {
      "cell_type": "code",
      "source": [
        "#Pilih fitur 1 utk regresi\n",
        "x = df[['artist_pop']]\n",
        "y = df[['track_pop']]"
      ],
      "metadata": {
        "id": "PrjpgrsEHiwY"
      },
      "execution_count": null,
      "outputs": []
    },
    {
      "cell_type": "code",
      "source": [
        "#train with train test split\n",
        "#Split dataset utk training dan test\n",
        "#20% test set, 80% training set\n",
        "x_train, x_test, y_train, y_test = train_test_split(x, y, test_size=0.2, random_state=42)\n",
        "lm_1 = LinearRegression()\n",
        "lm_1.fit(x_train, y_train) #training the algorithm\n",
        "\n",
        "#To retrieve the intercept:\n",
        "print(lm_1.intercept_)\n",
        "#For retrieving the slope:\n",
        "print(lm_1.coef_)\n",
        "\n",
        "y_pred = lm_1.predict(x_test)\n",
        "\n",
        "#Buat dataframe utk membandingkan\n",
        "df_comp = pd.DataFrame(y_pred)\n",
        "\n",
        "# Hitung dan tampilkan MAE, MSE dan RMSE\n",
        "print('Mean Absolute Error:', metrics.mean_absolute_error(y_test, y_pred))\n",
        "print('Mean Squared Error:', metrics.mean_squared_error(y_test, y_pred))\n",
        "print('Root Mean Squared Error:', np.sqrt(metrics.mean_squared_error(y_test, y_pred)))\n",
        "\n",
        "# Hitung dan tampilkan R2\n",
        "r_2 = r2_score(y_test, y_pred)\n",
        "print('R^2: ', r_2)"
      ],
      "metadata": {
        "id": "pGhxaFYpiOhG",
        "colab": {
          "base_uri": "https://localhost:8080/"
        },
        "outputId": "f7845336-8d3e-4555-d13d-15c2d80c51a1"
      },
      "execution_count": null,
      "outputs": [
        {
          "output_type": "stream",
          "name": "stdout",
          "text": [
            "[0.33132205]\n",
            "[[0.523782]]\n",
            "Mean Absolute Error: 0.12723714018941903\n",
            "Mean Squared Error: 0.03890964695668309\n",
            "Root Mean Squared Error: 0.1972552837231061\n",
            "R^2:  0.25919519635978094\n"
          ]
        }
      ]
    },
    {
      "cell_type": "markdown",
      "source": [
        "##### MODEL SIMPLE LINEAR REGRESSION DENGAN ATRIBUT PREDIKTOR \"duration_ms\""
      ],
      "metadata": {
        "id": "HRqmiavk6Zxc"
      }
    },
    {
      "cell_type": "code",
      "source": [
        "#Pilih fitur 2 utk regresi\n",
        "x = df[['duration_ms']]\n",
        "y = df[['track_pop']]"
      ],
      "metadata": {
        "id": "lTOFwIDK5l8z"
      },
      "execution_count": null,
      "outputs": []
    },
    {
      "cell_type": "code",
      "source": [
        "#train with train test split\n",
        "#Split dataset utk training dan test\n",
        "#20% test set, 80% training set\n",
        "x_train, x_test, y_train, y_test = train_test_split(x, y, test_size=0.2, random_state=42)\n",
        "lm_2 = LinearRegression()\n",
        "lm_2.fit(x_train, y_train) #training the algorithm\n",
        "\n",
        "#To retrieve the intercept:\n",
        "print(lm_2.intercept_)\n",
        "#For retrieving the slope:\n",
        "print(lm_2.coef_)\n",
        "\n",
        "y_pred = lm_2.predict(x_test)\n",
        "\n",
        "#Buat dataframe utk membandingkan\n",
        "df_comp = pd.DataFrame(y_pred)\n",
        "\n",
        "# Hitung dan tampilkan MAE, MSE dan RMSE\n",
        "print('Mean Absolute Error:', metrics.mean_absolute_error(y_test, y_pred))\n",
        "print('Mean Squared Error:', metrics.mean_squared_error(y_test, y_pred))\n",
        "print('Root Mean Squared Error:', np.sqrt(metrics.mean_squared_error(y_test, y_pred)))\n",
        "\n",
        "# Hitung dan tampilkan R2\n",
        "r_2 = r2_score(y_test, y_pred)\n",
        "print('R^2: ', r_2)"
      ],
      "metadata": {
        "id": "8ZuXPVfH5oSE",
        "colab": {
          "base_uri": "https://localhost:8080/"
        },
        "outputId": "67dd5612-cc3a-431a-cf71-84e7dee33c2d"
      },
      "execution_count": null,
      "outputs": [
        {
          "output_type": "stream",
          "name": "stdout",
          "text": [
            "[0.49857899]\n",
            "[[0.35829392]]\n",
            "Mean Absolute Error: 0.18589201678206702\n",
            "Mean Squared Error: 0.05233807300987471\n",
            "Root Mean Squared Error: 0.22877515820096095\n",
            "R^2:  0.003530000101217068\n"
          ]
        }
      ]
    },
    {
      "cell_type": "markdown",
      "source": [
        "##### MODEL SIMPLE LINEAR REGRESSION DENGAN ATRIBUT PREDIKTOR \"loudness\""
      ],
      "metadata": {
        "id": "_3qG8mhW8qqh"
      }
    },
    {
      "cell_type": "code",
      "source": [
        "#Pilih fitur 3 utk regresi\n",
        "x = df[['loudness']]\n",
        "y = df[['track_pop']]"
      ],
      "metadata": {
        "id": "R7YWpTcF83AI"
      },
      "execution_count": null,
      "outputs": []
    },
    {
      "cell_type": "code",
      "source": [
        "#train with train test split\n",
        "#Split dataset utk training dan test\n",
        "#20% test set, 80% training set\n",
        "x_train, x_test, y_train, y_test = train_test_split(x, y, test_size=0.2, random_state=None)\n",
        "lm_3 = LinearRegression()\n",
        "lm_3.fit(x_train, y_train) #training the algorithm\n",
        "\n",
        "#To retrieve the intercept:\n",
        "print(lm_3.intercept_)\n",
        "#For retrieving the slope:\n",
        "print(lm_3.coef_)\n",
        "\n",
        "y_pred = lm_3.predict(x_test)\n",
        "\n",
        "#Buat dataframe utk membandingkan\n",
        "df_comp = pd.DataFrame(y_pred)\n",
        "\n",
        "# Hitung dan tampilkan MAE, MSE dan RMSE\n",
        "print('Mean Absolute Error:', metrics.mean_absolute_error(y_test, y_pred))\n",
        "print('Mean Squared Error:', metrics.mean_squared_error(y_test, y_pred))\n",
        "print('Root Mean Squared Error:', np.sqrt(metrics.mean_squared_error(y_test, y_pred)))\n",
        "\n",
        "# Hitung dan tampilkan R2\n",
        "r_2 = r2_score(y_test, y_pred)\n",
        "print('R^2: ', r_2)"
      ],
      "metadata": {
        "colab": {
          "base_uri": "https://localhost:8080/"
        },
        "id": "6UtnPLxd8731",
        "outputId": "b994c207-436a-4b48-8aa7-0e825fc40556"
      },
      "execution_count": null,
      "outputs": [
        {
          "output_type": "stream",
          "name": "stdout",
          "text": [
            "[0.58819235]\n",
            "[[0.08726999]]\n",
            "Mean Absolute Error: 0.18833289584969878\n",
            "Mean Squared Error: 0.05026637434652674\n",
            "Root Mean Squared Error: 0.2242016376981371\n",
            "R^2:  0.030137326541211706\n"
          ]
        }
      ]
    },
    {
      "cell_type": "markdown",
      "source": [
        "##### MODEL SIMPLE LINEAR REGRESSION DENGAN ATRIBUT PREDIKTOR \"key\""
      ],
      "metadata": {
        "id": "svQcNMV1-UK3"
      }
    },
    {
      "cell_type": "code",
      "source": [
        "#Pilih fitur 3 utk regresi\n",
        "x = df[['key']]\n",
        "y = df[['track_pop']]"
      ],
      "metadata": {
        "id": "h7FyMElB-ZGH"
      },
      "execution_count": null,
      "outputs": []
    },
    {
      "cell_type": "code",
      "source": [
        "#train with train test split\n",
        "#Split dataset utk training dan test\n",
        "#20% test set, 80% training set\n",
        "x_train, x_test, y_train, y_test = train_test_split(x, y, test_size=0.2, random_state=None)\n",
        "lm_4 = LinearRegression()\n",
        "lm_4.fit(x_train, y_train) #training the algorithm\n",
        "\n",
        "#To retrieve the intercept:\n",
        "print(lm_4.intercept_)\n",
        "#For retrieving the slope:\n",
        "print(lm_4.coef_)\n",
        "\n",
        "y_pred = lm_4.predict(x_test)\n",
        "\n",
        "#Buat dataframe utk membandingkan\n",
        "df_comp = pd.DataFrame(y_pred)\n",
        "\n",
        "# Hitung dan tampilkan MAE, MSE dan RMSE\n",
        "print('Mean Absolute Error:', metrics.mean_absolute_error(y_test, y_pred))\n",
        "print('Mean Squared Error:', metrics.mean_squared_error(y_test, y_pred))\n",
        "print('Root Mean Squared Error:', np.sqrt(metrics.mean_squared_error(y_test, y_pred)))\n",
        "\n",
        "# Hitung dan tampilkan R2\n",
        "r_2 = r2_score(y_test, y_pred)\n",
        "print('R^2: ', r_2)"
      ],
      "metadata": {
        "colab": {
          "base_uri": "https://localhost:8080/"
        },
        "id": "MoytWuuc-dUc",
        "outputId": "b728b3b7-7d42-407c-90b6-89f09516c186"
      },
      "execution_count": null,
      "outputs": [
        {
          "output_type": "stream",
          "name": "stdout",
          "text": [
            "[0.67657664]\n",
            "[[-0.05158931]]\n",
            "Mean Absolute Error: 0.16729862194487788\n",
            "Mean Squared Error: 0.042201236186799614\n",
            "Root Mean Squared Error: 0.2054293946513001\n",
            "R^2:  0.041211071251844866\n"
          ]
        }
      ]
    },
    {
      "cell_type": "markdown",
      "source": [
        "### Simple dengan K-Fold Cross Validation"
      ],
      "metadata": {
        "id": "Rkk35Z03UyhG"
      }
    },
    {
      "cell_type": "markdown",
      "source": [
        "######**1. Artist pop**"
      ],
      "metadata": {
        "id": "Ysm2PnYsU6iF"
      }
    },
    {
      "cell_type": "code",
      "source": [
        "from sklearn.model_selection import KFold\n",
        "from sklearn.model_selection import cross_val_score\n",
        "from sklearn.linear_model import LinearRegression\n",
        "from sklearn.metrics import mean_squared_error, mean_absolute_error, r2_score\n",
        "import numpy as np\n",
        "\n",
        "# Contoh data dan model (gantilah dengan data dan model Anda)\n",
        "x = df[['artist_pop']].values\n",
        "y = df['track_pop'].values\n",
        "model1 = LinearRegression()\n",
        "\n",
        "# Tentukan jumlah fold\n",
        "kfold = KFold(n_splits=5, shuffle=True, random_state=42)\n",
        "\n",
        "# Lakukan cross-validation dan hitung skor\n",
        "mae_scores = -cross_val_score(model1, x, y, cv=kfold, scoring='neg_mean_absolute_error')\n",
        "mse_scores = -cross_val_score(model1, x, y, cv=kfold, scoring='neg_mean_squared_error')\n",
        "\n",
        "# Karena Scikit-Learn menghasilkan negatif MAE dan MSE, kita harus mengambil negatifnya\n",
        "rmse_scores = np.sqrt(mse_scores)\n",
        "r2_scores = cross_val_score(model1, x, y, cv=kfold, scoring='r2')\n",
        "\n",
        "#Hitung rata rata\n",
        "average_mae = mae_scores.mean()\n",
        "average_mse = mse_scores.mean()\n",
        "average_rmse = rmse_scores.mean()\n",
        "average_r2 = r2_scores.mean()\n",
        "\n",
        "# Menampilkan skor MAE, MSE, RMSE, dan R2\n",
        "print(f\"MAE: {average_mae:.4f}, MSE = {average_mse:.4f}, RMSE = {average_rmse:.4f}, R2 = {average_r2:.4f}\")"
      ],
      "metadata": {
        "colab": {
          "base_uri": "https://localhost:8080/"
        },
        "id": "CBwpqMLvU-AX",
        "outputId": "5d573cb6-d1b8-41a3-ebdf-59c209682465"
      },
      "execution_count": null,
      "outputs": [
        {
          "output_type": "stream",
          "name": "stdout",
          "text": [
            "MAE: 0.1224, MSE = 0.0352, RMSE = 0.1858, R2 = 0.2906\n"
          ]
        }
      ]
    },
    {
      "cell_type": "markdown",
      "source": [
        "######**2. duration_ms**"
      ],
      "metadata": {
        "id": "uIAsG643VdWb"
      }
    },
    {
      "cell_type": "code",
      "source": [
        "from sklearn.model_selection import KFold\n",
        "from sklearn.model_selection import cross_val_score\n",
        "from sklearn.linear_model import LinearRegression\n",
        "from sklearn.metrics import mean_squared_error, mean_absolute_error, r2_score\n",
        "import numpy as np\n",
        "\n",
        "# Contoh data dan model (gantilah dengan data dan model Anda)\n",
        "x = df[['duration_ms']].values\n",
        "y = df['track_pop'].values\n",
        "model1 = LinearRegression()\n",
        "\n",
        "# Tentukan jumlah fold (misalnya, 5-fold)\n",
        "kfold = KFold(n_splits=5, shuffle=True, random_state=42)\n",
        "\n",
        "# Lakukan cross-validation dan hitung skor\n",
        "mae_scores = -cross_val_score(model1, x, y, cv=kfold, scoring='neg_mean_absolute_error')\n",
        "mse_scores = -cross_val_score(model1, x, y, cv=kfold, scoring='neg_mean_squared_error')\n",
        "\n",
        "# Karena Scikit-Learn menghasilkan negatif MAE dan MSE, kita harus mengambil negatifnya\n",
        "rmse_scores = np.sqrt(mse_scores)\n",
        "r2_scores = cross_val_score(model1, x, y, cv=kfold, scoring='r2')\n",
        "\n",
        "#Hitung rata rata\n",
        "average_mae = mae_scores.mean()\n",
        "average_mse = mse_scores.mean()\n",
        "average_rmse = rmse_scores.mean()\n",
        "average_r2 = r2_scores.mean()\n",
        "\n",
        "# Menampilkan skor MAE, MSE, RMSE, dan R2\n",
        "print(f\"MAE: {average_mae:.4f}, MSE = {average_mse:.4f}, RMSE = {average_rmse:.4f}, R2 = {average_r2:.4f}\")"
      ],
      "metadata": {
        "colab": {
          "base_uri": "https://localhost:8080/"
        },
        "id": "lVej8de9VgQ4",
        "outputId": "d26a94f1-4c4e-45d9-ba22-2079c0189efa"
      },
      "execution_count": null,
      "outputs": [
        {
          "output_type": "stream",
          "name": "stdout",
          "text": [
            "MAE: 0.1760, MSE = 0.0478, RMSE = 0.2181, R2 = 0.0124\n"
          ]
        }
      ]
    },
    {
      "cell_type": "markdown",
      "source": [
        "######**3. loudness**"
      ],
      "metadata": {
        "id": "l2WfdAwpWB7U"
      }
    },
    {
      "cell_type": "code",
      "source": [
        "from sklearn.model_selection import KFold\n",
        "from sklearn.model_selection import cross_val_score\n",
        "from sklearn.linear_model import LinearRegression\n",
        "from sklearn.metrics import mean_squared_error, mean_absolute_error, r2_score\n",
        "import numpy as np\n",
        "\n",
        "# Contoh data dan model (gantilah dengan data dan model Anda)\n",
        "x = df[['loudness']].values\n",
        "y = df['track_pop'].values\n",
        "model1 = LinearRegression()\n",
        "\n",
        "# Tentukan jumlah fold (misalnya, 5-fold)\n",
        "kfold = KFold(n_splits=5, shuffle=True, random_state=None)\n",
        "\n",
        "# Lakukan cross-validation dan hitung skor\n",
        "mae_scores = -cross_val_score(model1, x, y, cv=kfold, scoring='neg_mean_absolute_error')\n",
        "mse_scores = -cross_val_score(model1, x, y, cv=kfold, scoring='neg_mean_squared_error')\n",
        "\n",
        "# Karena Scikit-Learn menghasilkan negatif MAE dan MSE, kita harus mengambil negatifnya\n",
        "rmse_scores = np.sqrt(mse_scores)\n",
        "r2_scores = cross_val_score(model1, x, y, cv=kfold, scoring='r2')\n",
        "\n",
        "#Hitung rata rata\n",
        "average_mae = mae_scores.mean()\n",
        "average_mse = mse_scores.mean()\n",
        "average_rmse = rmse_scores.mean()\n",
        "average_r2 = r2_scores.mean()\n",
        "\n",
        "# Menampilkan skor MAE, MSE, RMSE, dan R2\n",
        "print(f\"MAE: {average_mae:.4f}, MSE = {average_mse:.4f}, RMSE = {average_rmse:.4f}, R2 = {average_r2:.4f}\")"
      ],
      "metadata": {
        "colab": {
          "base_uri": "https://localhost:8080/"
        },
        "id": "pSQGDOEgWFTD",
        "outputId": "0a61c0e5-69e1-4568-af27-f6284e51a0e7"
      },
      "execution_count": null,
      "outputs": [
        {
          "output_type": "stream",
          "name": "stdout",
          "text": [
            "MAE: 0.1872, MSE = 0.0499, RMSE = 0.2218, R2 = 0.0039\n"
          ]
        }
      ]
    },
    {
      "cell_type": "markdown",
      "source": [
        "###### **4. key**"
      ],
      "metadata": {
        "id": "uh3RxGkNXRGt"
      }
    },
    {
      "cell_type": "code",
      "source": [
        "from sklearn.model_selection import KFold\n",
        "from sklearn.model_selection import cross_val_score\n",
        "from sklearn.linear_model import LinearRegression\n",
        "from sklearn.metrics import mean_squared_error, mean_absolute_error, r2_score\n",
        "import numpy as np\n",
        "\n",
        "# Contoh data dan model (gantilah dengan data dan model Anda)\n",
        "x = df[['key']].values\n",
        "y = df['track_pop'].values\n",
        "model1 = LinearRegression()\n",
        "\n",
        "# Tentukan jumlah fold (misalnya, 5-fold)\n",
        "kfold = KFold(n_splits=5, shuffle=True, random_state=None)\n",
        "\n",
        "# Lakukan cross-validation dan hitung skor\n",
        "mae_scores = -cross_val_score(model1, x, y, cv=kfold, scoring='neg_mean_absolute_error')\n",
        "mse_scores = -cross_val_score(model1, x, y, cv=kfold, scoring='neg_mean_squared_error')\n",
        "\n",
        "# Karena Scikit-Learn menghasilkan negatif MAE dan MSE, kita harus mengambil negatifnya\n",
        "rmse_scores = np.sqrt(mse_scores)\n",
        "r2_scores = cross_val_score(model1, x, y, cv=kfold, scoring='r2')\n",
        "\n",
        "#Hitung rata rata\n",
        "average_mae = mae_scores.mean()\n",
        "average_mse = mse_scores.mean()\n",
        "average_rmse = rmse_scores.mean()\n",
        "average_r2 = r2_scores.mean()\n",
        "\n",
        "# Menampilkan skor MAE, MSE, RMSE, dan R2\n",
        "print(f\"MAE: {average_mae:.4f}, MSE = {average_mse:.4f}, RMSE = {average_rmse:.4f}, R2 = {average_r2:.4f}\")"
      ],
      "metadata": {
        "colab": {
          "base_uri": "https://localhost:8080/"
        },
        "id": "qjW-OW5kXTef",
        "outputId": "e571e7c6-d74e-4fd7-d9d2-fcbbfdb1b311"
      },
      "execution_count": null,
      "outputs": [
        {
          "output_type": "stream",
          "name": "stdout",
          "text": [
            "MAE: 0.1853, MSE = 0.0508, RMSE = 0.2251, R2 = 0.0063\n"
          ]
        }
      ]
    },
    {
      "cell_type": "markdown",
      "source": [],
      "metadata": {
        "id": "mGidyRMqXm7p"
      }
    },
    {
      "cell_type": "markdown",
      "source": [
        "### Multiple dengan Train/Test"
      ],
      "metadata": {
        "id": "b4Udad7SXqJm"
      }
    },
    {
      "cell_type": "markdown",
      "source": [
        "###### **1. artist_pop dan duration_ms**"
      ],
      "metadata": {
        "id": "iTdTNaKFXvYp"
      }
    },
    {
      "cell_type": "code",
      "source": [
        "features = df[['artist_pop', 'duration_ms']]\n",
        "x = features.values\n",
        "y = df['track_pop'].values\n",
        "\n",
        "#train with train test split\n",
        "#Split dataset utk training dan test\n",
        "#20% test set, 80% training set\n",
        "x_train, x_test, y_train, y_test = train_test_split(x, y, test_size=0.2, random_state=None)\n",
        "lm_1 = LinearRegression()\n",
        "lm_1.fit(x_train, y_train) #training the algorithm\n",
        "\n",
        "#To retrieve the intercept:\n",
        "print(lm_1.intercept_)\n",
        "#For retrieving the slope:\n",
        "print(lm_1.coef_)\n",
        "\n",
        "y_pred = lm_1.predict(x_test)\n",
        "\n",
        "#Buat dataframe utk membandingkan\n",
        "df_comp = pd.DataFrame(y_pred)\n",
        "\n",
        "# Hitung dan tampilkan MAE, MSE dan RMSE\n",
        "print('Mean Absolute Error:', metrics.mean_absolute_error(y_test, y_pred))\n",
        "print('Mean Squared Error:', metrics.mean_squared_error(y_test, y_pred))\n",
        "print('Root Mean Squared Error:', np.sqrt(metrics.mean_squared_error(y_test, y_pred)))\n",
        "\n",
        "# Hitung dan tampilkan R2\n",
        "r_2 = r2_score(y_test, y_pred)\n",
        "print('R^2: ', r_2)"
      ],
      "metadata": {
        "colab": {
          "base_uri": "https://localhost:8080/"
        },
        "id": "3TfueCvBYgEF",
        "outputId": "11c0312a-1ade-4e41-cd45-bb216254b4db"
      },
      "execution_count": null,
      "outputs": [
        {
          "output_type": "stream",
          "name": "stdout",
          "text": [
            "0.2752523098134995\n",
            "[0.50478442 0.15445531]\n",
            "Mean Absolute Error: 0.14574394467982008\n",
            "Mean Squared Error: 0.05026935709772276\n",
            "Root Mean Squared Error: 0.22420828953837268\n",
            "R^2:  0.0582535030466893\n"
          ]
        }
      ]
    },
    {
      "cell_type": "markdown",
      "source": [
        "###### **2. artist_pop dan loudness**"
      ],
      "metadata": {
        "id": "vRV3itrAXzS0"
      }
    },
    {
      "cell_type": "code",
      "source": [
        "features = df[['artist_pop', 'loudness']]\n",
        "x = features.values\n",
        "y = df['track_pop'].values\n",
        "\n",
        "#train with train test split\n",
        "#Split dataset utk training dan test\n",
        "#20% test set, 80% training set\n",
        "x_train, x_test, y_train, y_test = train_test_split(x, y, test_size=0.2, random_state=None)\n",
        "lm_1 = LinearRegression()\n",
        "lm_1.fit(x_train, y_train) #training the algorithm\n",
        "\n",
        "#To retrieve the intercept:\n",
        "print(lm_1.intercept_)\n",
        "#For retrieving the slope:\n",
        "print(lm_1.coef_)\n",
        "\n",
        "y_pred = lm_1.predict(x_test)\n",
        "\n",
        "#Buat dataframe utk membandingkan\n",
        "df_comp = pd.DataFrame(y_pred)\n",
        "\n",
        "# Hitung dan tampilkan MAE, MSE dan RMSE\n",
        "print('Mean Absolute Error:', metrics.mean_absolute_error(y_test, y_pred))\n",
        "print('Mean Squared Error:', metrics.mean_squared_error(y_test, y_pred))\n",
        "print('Root Mean Squared Error:', np.sqrt(metrics.mean_squared_error(y_test, y_pred)))\n",
        "\n",
        "# Hitung dan tampilkan R2\n",
        "r_2 = r2_score(y_test, y_pred)\n",
        "print('R^2: ', r_2)"
      ],
      "metadata": {
        "colab": {
          "base_uri": "https://localhost:8080/"
        },
        "id": "swSAHtZbY6kp",
        "outputId": "7b0854e9-08d5-48f4-e210-17358e9ea4aa"
      },
      "execution_count": null,
      "outputs": [
        {
          "output_type": "stream",
          "name": "stdout",
          "text": [
            "0.2836660208107219\n",
            "[0.5300349  0.06535635]\n",
            "Mean Absolute Error: 0.12961092977092925\n",
            "Mean Squared Error: 0.04052352293546626\n",
            "Root Mean Squared Error: 0.20130455269433492\n",
            "R^2:  0.20283568078220193\n"
          ]
        }
      ]
    },
    {
      "cell_type": "markdown",
      "source": [
        "###### **3. artist_pop dan key**"
      ],
      "metadata": {
        "id": "wJIipW8xX2sF"
      }
    },
    {
      "cell_type": "code",
      "source": [
        "features = df[['artist_pop', 'key']]\n",
        "x = features.values\n",
        "y = df['track_pop'].values\n",
        "\n",
        "#train with train test split\n",
        "#Split dataset utk training dan test\n",
        "#20% test set, 80% training set\n",
        "x_train, x_test, y_train, y_test = train_test_split(x, y, test_size=0.2, random_state=None)\n",
        "lm_1 = LinearRegression()\n",
        "lm_1.fit(x_train, y_train) #training the algorithm\n",
        "\n",
        "#To retrieve the intercept:\n",
        "print(lm_1.intercept_)\n",
        "#For retrieving the slope:\n",
        "print(lm_1.coef_)\n",
        "\n",
        "y_pred = lm_1.predict(x_test)\n",
        "\n",
        "#Buat dataframe utk membandingkan\n",
        "df_comp = pd.DataFrame(y_pred)\n",
        "\n",
        "# Hitung dan tampilkan MAE, MSE dan RMSE\n",
        "print('Mean Absolute Error:', metrics.mean_absolute_error(y_test, y_pred))\n",
        "print('Mean Squared Error:', metrics.mean_squared_error(y_test, y_pred))\n",
        "print('Root Mean Squared Error:', np.sqrt(metrics.mean_squared_error(y_test, y_pred)))\n",
        "\n",
        "# Hitung dan tampilkan R2\n",
        "r_2 = r2_score(y_test, y_pred)\n",
        "print('R^2: ', r_2)"
      ],
      "metadata": {
        "colab": {
          "base_uri": "https://localhost:8080/"
        },
        "id": "gDyXCoDZZHwG",
        "outputId": "d2cbc42e-de75-4d96-b56f-32d9e7a89125"
      },
      "execution_count": null,
      "outputs": [
        {
          "output_type": "stream",
          "name": "stdout",
          "text": [
            "0.3685324234356242\n",
            "[ 0.54430316 -0.09693441]\n",
            "Mean Absolute Error: 0.10850267339425695\n",
            "Mean Squared Error: 0.03290462547331263\n",
            "Root Mean Squared Error: 0.18139632155397373\n",
            "R^2:  0.19930021819753085\n"
          ]
        }
      ]
    },
    {
      "cell_type": "markdown",
      "source": [
        "###### **4. duration_ms dan loudness**"
      ],
      "metadata": {
        "id": "P3ZFr_feX7iF"
      }
    },
    {
      "cell_type": "code",
      "source": [
        "features = df[['loudness', 'duration_ms']]\n",
        "x = features.values\n",
        "y = df['track_pop'].values\n",
        "\n",
        "#train with train test split\n",
        "#Split dataset utk training dan test\n",
        "#20% test set, 80% training set\n",
        "x_train, x_test, y_train, y_test = train_test_split(x, y, test_size=0.2, random_state=None)\n",
        "lm_1 = LinearRegression()\n",
        "lm_1.fit(x_train, y_train) #training the algorithm\n",
        "\n",
        "#To retrieve the intercept:\n",
        "print(lm_1.intercept_)\n",
        "#For retrieving the slope:\n",
        "print(lm_1.coef_)\n",
        "\n",
        "y_pred = lm_1.predict(x_test)\n",
        "\n",
        "#Buat dataframe utk membandingkan\n",
        "df_comp = pd.DataFrame(y_pred)\n",
        "\n",
        "# Hitung dan tampilkan MAE, MSE dan RMSE\n",
        "print('Mean Absolute Error:', metrics.mean_absolute_error(y_test, y_pred))\n",
        "print('Mean Squared Error:', metrics.mean_squared_error(y_test, y_pred))\n",
        "print('Root Mean Squared Error:', np.sqrt(metrics.mean_squared_error(y_test, y_pred)))\n",
        "\n",
        "# Hitung dan tampilkan R2\n",
        "r_2 = r2_score(y_test, y_pred)\n",
        "print('R^2: ', r_2)"
      ],
      "metadata": {
        "colab": {
          "base_uri": "https://localhost:8080/"
        },
        "id": "u0OyCGN-ZTFG",
        "outputId": "f3bc4d47-35bb-49cb-ab7b-fe8ed8f53148"
      },
      "execution_count": null,
      "outputs": [
        {
          "output_type": "stream",
          "name": "stdout",
          "text": [
            "0.43381786618146145\n",
            "[0.12155051 0.29845482]\n",
            "Mean Absolute Error: 0.18563362567563574\n",
            "Mean Squared Error: 0.04923855067859097\n",
            "Root Mean Squared Error: 0.221897613052937\n",
            "R^2:  0.07557048129660149\n"
          ]
        }
      ]
    },
    {
      "cell_type": "markdown",
      "source": [
        "###### **5. duration_ms dan key**"
      ],
      "metadata": {
        "id": "S7nuzpPbYAkT"
      }
    },
    {
      "cell_type": "code",
      "source": [
        "features = df[['key', 'duration_ms']]\n",
        "x = features.values\n",
        "y = df['track_pop'].values\n",
        "\n",
        "#train with train test split\n",
        "#Split dataset utk training dan test\n",
        "#20% test set, 80% training set\n",
        "x_train, x_test, y_train, y_test = train_test_split(x, y, test_size=0.2, random_state=42)\n",
        "lm_1 = LinearRegression()\n",
        "lm_1.fit(x_train, y_train) #training the algorithm\n",
        "\n",
        "#To retrieve the intercept:\n",
        "print(lm_1.intercept_)\n",
        "#For retrieving the slope:\n",
        "print(lm_1.coef_)\n",
        "\n",
        "y_pred = lm_1.predict(x_test)\n",
        "\n",
        "#Buat dataframe utk membandingkan\n",
        "df_comp = pd.DataFrame(y_pred)\n",
        "\n",
        "# Hitung dan tampilkan MAE, MSE dan RMSE\n",
        "print('Mean Absolute Error:', metrics.mean_absolute_error(y_test, y_pred))\n",
        "print('Mean Squared Error:', metrics.mean_squared_error(y_test, y_pred))\n",
        "print('Root Mean Squared Error:', np.sqrt(metrics.mean_squared_error(y_test, y_pred)))\n",
        "\n",
        "# Hitung dan tampilkan R2\n",
        "r_2 = r2_score(y_test, y_pred)\n",
        "print('R^2: ', r_2)"
      ],
      "metadata": {
        "colab": {
          "base_uri": "https://localhost:8080/"
        },
        "id": "R8kdDsXXZk2D",
        "outputId": "888dc225-95ab-4e8b-8392-d55c10ad215e"
      },
      "execution_count": null,
      "outputs": [
        {
          "output_type": "stream",
          "name": "stdout",
          "text": [
            "0.5137225901629845\n",
            "[-0.02976615  0.35889157]\n",
            "Mean Absolute Error: 0.18210446657859333\n",
            "Mean Squared Error: 0.050396568648140024\n",
            "Root Mean Squared Error: 0.22449180084836065\n",
            "R^2:  0.04049450299333213\n"
          ]
        }
      ]
    },
    {
      "cell_type": "markdown",
      "source": [
        "###### **6. loudness dan key**"
      ],
      "metadata": {
        "id": "BQOxQthuYD2I"
      }
    },
    {
      "cell_type": "code",
      "source": [
        "features = df[['loudness', 'key']]\n",
        "x = features.values\n",
        "y = df['track_pop'].values\n",
        "\n",
        "#train with train test split\n",
        "#Split dataset utk training dan test\n",
        "#20% test set, 80% training set\n",
        "x_train, x_test, y_train, y_test = train_test_split(x, y, test_size=0.2, random_state=42)\n",
        "lm_1 = LinearRegression()\n",
        "lm_1.fit(x_train, y_train) #training the algorithm\n",
        "\n",
        "#To retrieve the intercept:\n",
        "print(lm_1.intercept_)\n",
        "#For retrieving the slope:\n",
        "print(lm_1.coef_)\n",
        "\n",
        "y_pred = lm_1.predict(x_test)\n",
        "\n",
        "#Buat dataframe utk membandingkan\n",
        "df_comp = pd.DataFrame(y_pred)\n",
        "\n",
        "# Hitung dan tampilkan MAE, MSE dan RMSE\n",
        "print('Mean Absolute Error:', metrics.mean_absolute_error(y_test, y_pred))\n",
        "print('Mean Squared Error:', metrics.mean_squared_error(y_test, y_pred))\n",
        "print('Root Mean Squared Error:', np.sqrt(metrics.mean_squared_error(y_test, y_pred)))\n",
        "\n",
        "# Hitung dan tampilkan R2\n",
        "r_2 = r2_score(y_test, y_pred)\n",
        "print('R^2: ', r_2)"
      ],
      "metadata": {
        "colab": {
          "base_uri": "https://localhost:8080/"
        },
        "id": "R-zyT_lIZwjv",
        "outputId": "33752bb4-518f-4cde-84f0-ce3d9abd9dce"
      },
      "execution_count": null,
      "outputs": [
        {
          "output_type": "stream",
          "name": "stdout",
          "text": [
            "0.5616424844500661\n",
            "[ 0.15837305 -0.03069789]\n",
            "Mean Absolute Error: 0.18919172599788228\n",
            "Mean Squared Error: 0.05106755457368905\n",
            "Root Mean Squared Error: 0.22598131465607738\n",
            "R^2:  0.027719532370363842\n"
          ]
        }
      ]
    },
    {
      "cell_type": "markdown",
      "source": [
        "###### **7. artist_pop, duration_ms, dan loudness**"
      ],
      "metadata": {
        "id": "lLd9VPxOYHDH"
      }
    },
    {
      "cell_type": "code",
      "source": [
        "features = df[['artist_pop', 'duration_ms', 'loudness']]\n",
        "x = features.values\n",
        "y = df['track_pop'].values\n",
        "\n",
        "#train with train test split\n",
        "#Split dataset utk training dan test\n",
        "#20% test set, 80% training set\n",
        "x_train, x_test, y_train, y_test = train_test_split(x, y, test_size=0.2, random_state=42)\n",
        "lm_1 = LinearRegression()\n",
        "lm_1.fit(x_train, y_train) #training the algorithm\n",
        "\n",
        "#To retrieve the intercept:\n",
        "print(lm_1.intercept_)\n",
        "#For retrieving the slope:\n",
        "print(lm_1.coef_)\n",
        "\n",
        "y_pred = lm_1.predict(x_test)\n",
        "\n",
        "#Buat dataframe utk membandingkan\n",
        "df_comp = pd.DataFrame(y_pred)\n",
        "\n",
        "# Hitung dan tampilkan MAE, MSE dan RMSE\n",
        "print('Mean Absolute Error:', metrics.mean_absolute_error(y_test, y_pred))\n",
        "print('Mean Squared Error:', metrics.mean_squared_error(y_test, y_pred))\n",
        "print('Root Mean Squared Error:', np.sqrt(metrics.mean_squared_error(y_test, y_pred)))\n",
        "\n",
        "# Hitung dan tampilkan R2\n",
        "r_2 = r2_score(y_test, y_pred)\n",
        "print('R^2: ', r_2)"
      ],
      "metadata": {
        "colab": {
          "base_uri": "https://localhost:8080/"
        },
        "id": "HFqt01bNZ-iB",
        "outputId": "d825a5d6-b6bd-4042-ae83-dce88c40e94a"
      },
      "execution_count": null,
      "outputs": [
        {
          "output_type": "stream",
          "name": "stdout",
          "text": [
            "0.22775285891821695\n",
            "[0.48633223 0.13477692 0.1045204 ]\n",
            "Mean Absolute Error: 0.1325694412764158\n",
            "Mean Squared Error: 0.04177322666482294\n",
            "Root Mean Squared Error: 0.2043849961832398\n",
            "R^2:  0.2046752053210985\n"
          ]
        }
      ]
    },
    {
      "cell_type": "markdown",
      "source": [
        "###### **8. artist_pop, duration_ms, dan key**"
      ],
      "metadata": {
        "id": "-OXjBg6eYKdJ"
      }
    },
    {
      "cell_type": "code",
      "source": [
        "features = df[['artist_pop', 'duration_ms', 'key']]\n",
        "x = features.values\n",
        "y = df['track_pop'].values\n",
        "\n",
        "#train with train test split\n",
        "#Split dataset utk training dan test\n",
        "#20% test set, 80% training set\n",
        "x_train, x_test, y_train, y_test = train_test_split(x, y, test_size=0.2, random_state=42)\n",
        "lm_1 = LinearRegression()\n",
        "lm_1.fit(x_train, y_train) #training the algorithm\n",
        "\n",
        "#To retrieve the intercept:\n",
        "print(lm_1.intercept_)\n",
        "#For retrieving the slope:\n",
        "print(lm_1.coef_)\n",
        "\n",
        "y_pred = lm_1.predict(x_test)\n",
        "\n",
        "#Buat dataframe utk membandingkan\n",
        "df_comp = pd.DataFrame(y_pred)\n",
        "\n",
        "# Hitung dan tampilkan MAE, MSE dan RMSE\n",
        "print('Mean Absolute Error:', metrics.mean_absolute_error(y_test, y_pred))\n",
        "print('Mean Squared Error:', metrics.mean_squared_error(y_test, y_pred))\n",
        "print('Root Mean Squared Error:', np.sqrt(metrics.mean_squared_error(y_test, y_pred)))\n",
        "\n",
        "# Hitung dan tampilkan R2\n",
        "r_2 = r2_score(y_test, y_pred)\n",
        "print('R^2: ', r_2)"
      ],
      "metadata": {
        "colab": {
          "base_uri": "https://localhost:8080/"
        },
        "id": "06RhQJ2kaMQX",
        "outputId": "32e34b1d-ce07-4616-d517-daa00afebc78"
      },
      "execution_count": null,
      "outputs": [
        {
          "output_type": "stream",
          "name": "stdout",
          "text": [
            "0.31190006206259796\n",
            "[ 0.49603384  0.12555906 -0.03275801]\n",
            "Mean Absolute Error: 0.12614252550941965\n",
            "Mean Squared Error: 0.03875023963333433\n",
            "Root Mean Squared Error: 0.19685080551863213\n",
            "R^2:  0.26223016892079287\n"
          ]
        }
      ]
    },
    {
      "cell_type": "markdown",
      "source": [
        "###### **9. artist_pop, loudness, dan key**"
      ],
      "metadata": {
        "id": "_l_W_MXrYOMR"
      }
    },
    {
      "cell_type": "code",
      "source": [
        "features = df[['artist_pop', 'key', 'loudness']]\n",
        "x = features.values\n",
        "y = df['track_pop'].values\n",
        "\n",
        "#train with train test split\n",
        "#Split dataset utk training dan test\n",
        "#20% test set, 80% training set\n",
        "x_train, x_test, y_train, y_test = train_test_split(x, y, test_size=0.2, random_state=42)\n",
        "lm_1 = LinearRegression()\n",
        "lm_1.fit(x_train, y_train) #training the algorithm\n",
        "\n",
        "#To retrieve the intercept:\n",
        "print(lm_1.intercept_)\n",
        "#For retrieving the slope:\n",
        "print(lm_1.coef_)\n",
        "\n",
        "y_pred = lm_1.predict(x_test)\n",
        "\n",
        "#Buat dataframe utk membandingkan\n",
        "df_comp = pd.DataFrame(y_pred)\n",
        "\n",
        "# Hitung dan tampilkan MAE, MSE dan RMSE\n",
        "print('Mean Absolute Error:', metrics.mean_absolute_error(y_test, y_pred))\n",
        "print('Mean Squared Error:', metrics.mean_squared_error(y_test, y_pred))\n",
        "print('Root Mean Squared Error:', np.sqrt(metrics.mean_squared_error(y_test, y_pred)))\n",
        "\n",
        "# Hitung dan tampilkan R2\n",
        "r_2 = r2_score(y_test, y_pred)\n",
        "print('R^2: ', r_2)"
      ],
      "metadata": {
        "colab": {
          "base_uri": "https://localhost:8080/"
        },
        "id": "k9U1raTLa3AQ",
        "outputId": "8c6263a5-ae8d-4755-8f46-4c2a486a5c44"
      },
      "execution_count": null,
      "outputs": [
        {
          "output_type": "stream",
          "name": "stdout",
          "text": [
            "0.2883391796464682\n",
            "[ 0.51774654 -0.03397865  0.09701948]\n",
            "Mean Absolute Error: 0.12465147124265707\n",
            "Mean Squared Error: 0.03778788013045776\n",
            "Root Mean Squared Error: 0.19439104951220815\n",
            "R^2:  0.28055263130019836\n"
          ]
        }
      ]
    },
    {
      "cell_type": "markdown",
      "source": [
        "###### **10. duration_ms, loudness, dan key**"
      ],
      "metadata": {
        "id": "lly6g6AhYRmB"
      }
    },
    {
      "cell_type": "code",
      "source": [
        "features = df[['key', 'duration_ms', 'loudness']]\n",
        "x = features.values\n",
        "y = df['track_pop'].values\n",
        "\n",
        "#train with train test split\n",
        "#Split dataset utk training dan test\n",
        "#20% test set, 80% training set\n",
        "x_train, x_test, y_train, y_test = train_test_split(x, y, test_size=0.2, random_state=42)\n",
        "lm_1 = LinearRegression()\n",
        "lm_1.fit(x_train, y_train) #training the algorithm\n",
        "\n",
        "#To retrieve the intercept:\n",
        "print(lm_1.intercept_)\n",
        "#For retrieving the slope:\n",
        "print(lm_1.coef_)\n",
        "\n",
        "y_pred = lm_1.predict(x_test)\n",
        "\n",
        "#Buat dataframe utk membandingkan\n",
        "df_comp = pd.DataFrame(y_pred)\n",
        "\n",
        "# Hitung dan tampilkan MAE, MSE dan RMSE\n",
        "print('Mean Absolute Error:', metrics.mean_absolute_error(y_test, y_pred))\n",
        "print('Mean Squared Error:', metrics.mean_squared_error(y_test, y_pred))\n",
        "print('Root Mean Squared Error:', np.sqrt(metrics.mean_squared_error(y_test, y_pred)))\n",
        "\n",
        "# Hitung dan tampilkan R2\n",
        "r_2 = r2_score(y_test, y_pred)\n",
        "print('R^2: ', r_2)"
      ],
      "metadata": {
        "colab": {
          "base_uri": "https://localhost:8080/"
        },
        "id": "yCHAcJlkbBFO",
        "outputId": "5c11b93a-f151-4de0-aece-bff03ef758cc"
      },
      "execution_count": null,
      "outputs": [
        {
          "output_type": "stream",
          "name": "stdout",
          "text": [
            "0.39619360991001473\n",
            "[-0.03279447  0.36780163  0.17415975]\n",
            "Mean Absolute Error: 0.1799599667261382\n",
            "Mean Squared Error: 0.050923714349579756\n",
            "Root Mean Squared Error: 0.22566283333677203\n",
            "R^2:  0.030458121314526743\n"
          ]
        }
      ]
    },
    {
      "cell_type": "markdown",
      "source": [
        "###### **11. artist_pop, duration_ms, loudness, dan key**"
      ],
      "metadata": {
        "id": "oZu9MK4CYVKx"
      }
    },
    {
      "cell_type": "code",
      "source": [
        "features = df[['artist_pop', 'duration_ms', 'loudness', 'key']]\n",
        "x = features.values\n",
        "y = df['track_pop'].values\n",
        "\n",
        "#train with train test split\n",
        "#Split dataset utk training dan test\n",
        "#20% test set, 80% training set\n",
        "x_train, x_test, y_train, y_test = train_test_split(x, y, test_size=0.2, random_state=42)\n",
        "lm_1 = LinearRegression()\n",
        "lm_1.fit(x_train, y_train) #training the algorithm\n",
        "\n",
        "#To retrieve the intercept:\n",
        "print(lm_1.intercept_)\n",
        "#For retrieving the slope:\n",
        "print(lm_1.coef_)\n",
        "\n",
        "y_pred = lm_1.predict(x_test)\n",
        "\n",
        "#Buat dataframe utk membandingkan\n",
        "df_comp = pd.DataFrame(y_pred)\n",
        "\n",
        "# Hitung dan tampilkan MAE, MSE dan RMSE\n",
        "print('Mean Absolute Error:', metrics.mean_absolute_error(y_test, y_pred))\n",
        "print('Mean Squared Error:', metrics.mean_squared_error(y_test, y_pred))\n",
        "print('Root Mean Squared Error:', np.sqrt(metrics.mean_squared_error(y_test, y_pred)))\n",
        "\n",
        "# Hitung dan tampilkan R2\n",
        "r_2 = r2_score(y_test, y_pred)\n",
        "print('R^2: ', r_2)\n"
      ],
      "metadata": {
        "id": "gA-j3IrFbKN_",
        "outputId": "fa67098e-a88f-4525-ed22-80b699f11630",
        "colab": {
          "base_uri": "https://localhost:8080/"
        }
      },
      "execution_count": null,
      "outputs": [
        {
          "output_type": "stream",
          "name": "stdout",
          "text": [
            "0.24385058757010164\n",
            "[ 0.48660574  0.13544376  0.10652319 -0.03455339]\n",
            "Mean Absolute Error: 0.128025864051664\n",
            "Mean Squared Error: 0.03975382034055579\n",
            "Root Mean Squared Error: 0.19938360098201605\n",
            "R^2:  0.2431228917569067\n"
          ]
        }
      ]
    },
    {
      "cell_type": "markdown",
      "source": [
        "### Multiple dengan K-Fold Cross Validation"
      ],
      "metadata": {
        "id": "bdai7X2lBXMr"
      }
    },
    {
      "cell_type": "markdown",
      "source": [
        "##### **1. Artist Pop dan Duration**"
      ],
      "metadata": {
        "id": "itkCEmGzLuJq"
      }
    },
    {
      "cell_type": "code",
      "source": [
        "from sklearn.model_selection import KFold\n",
        "from sklearn.model_selection import cross_val_score\n",
        "from sklearn.linear_model import LinearRegression\n",
        "from sklearn.metrics import mean_squared_error, mean_absolute_error, r2_score\n",
        "import numpy as np\n",
        "\n",
        "# Contoh data dan model (gantilah dengan data dan model Anda)\n",
        "features = df[['artist_pop', 'loudness']]\n",
        "x = features.values\n",
        "y = df['track_pop'].values\n",
        "model = LinearRegression()\n",
        "\n",
        "# Tentukan jumlah fold (misalnya, 5-fold)\n",
        "kfold = KFold(n_splits=5, shuffle=True, random_state=42)\n",
        "\n",
        "# Lakukan cross-validation dan hitung skor\n",
        "mae_scores = -cross_val_score(model, x, y, cv=kfold, scoring='neg_mean_absolute_error')\n",
        "mse_scores = -cross_val_score(model, x, y, cv=kfold, scoring='neg_mean_squared_error')\n",
        "\n",
        "# Karena Scikit-Learn menghasilkan negatif MAE dan MSE, kita harus mengambil negatifnya\n",
        "rmse_scores = np.sqrt(mse_scores)\n",
        "r2_scores = cross_val_score(model, x, y, cv=kfold, scoring='r2')\n",
        "\n",
        "#Hitung rata rata\n",
        "average_mae = mae_scores.mean()\n",
        "average_mse = mse_scores.mean()\n",
        "average_rmse = rmse_scores.mean()\n",
        "average_r2 = r2_scores.mean()\n",
        "\n",
        "# Menampilkan skor MAE, MSE, RMSE, dan R2\n",
        "print(f\"MAE: {average_mae:.4f}, MSE = {average_mse:.4f}, RMSE = {average_rmse:.4f}, R2 = {average_r2:.4f}\")"
      ],
      "metadata": {
        "id": "np8SbCj2BsMt",
        "colab": {
          "base_uri": "https://localhost:8080/"
        },
        "outputId": "3d083f9f-70ac-4720-cf8a-4f38469837c5"
      },
      "execution_count": null,
      "outputs": [
        {
          "output_type": "stream",
          "name": "stdout",
          "text": [
            "MAE: 0.1228, MSE = 0.0353, RMSE = 0.1860, R2 = 0.2894\n"
          ]
        }
      ]
    },
    {
      "cell_type": "markdown",
      "source": [
        "##### **2. Artist pop dan loudness**"
      ],
      "metadata": {
        "id": "PbZX2QegL5XJ"
      }
    },
    {
      "cell_type": "code",
      "source": [
        "from sklearn.model_selection import KFold\n",
        "from sklearn.model_selection import cross_val_score\n",
        "from sklearn.linear_model import LinearRegression\n",
        "from sklearn.metrics import mean_squared_error, mean_absolute_error, r2_score\n",
        "import numpy as np\n",
        "\n",
        "# Contoh data dan model (gantilah dengan data dan model Anda)\n",
        "features = df[['artist_pop', 'loudness']]\n",
        "x = features.values\n",
        "y = df['track_pop'].values\n",
        "model1 = LinearRegression()\n",
        "\n",
        "# Tentukan jumlah fold (misalnya, 5-fold)\n",
        "kfold = KFold(n_splits=5, shuffle=True, random_state=42)\n",
        "\n",
        "# Lakukan cross-validation dan hitung skor\n",
        "mae_scores = -cross_val_score(model, x, y, cv=kfold, scoring='neg_mean_absolute_error')\n",
        "mse_scores = -cross_val_score(model, x, y, cv=kfold, scoring='neg_mean_squared_error')\n",
        "\n",
        "# Karena Scikit-Learn menghasilkan negatif MAE dan MSE, kita harus mengambil negatifnya\n",
        "rmse_scores = np.sqrt(mse_scores)\n",
        "r2_scores = cross_val_score(model, x, y, cv=kfold, scoring='r2')\n",
        "\n",
        "#Hitung rata rata\n",
        "average_mae = mae_scores.mean()\n",
        "average_mse = mse_scores.mean()\n",
        "average_rmse = rmse_scores.mean()\n",
        "average_r2 = r2_scores.mean()\n",
        "\n",
        "# Menampilkan skor MAE, MSE, RMSE, dan R2\n",
        "print(f\"MAE: {average_mae:.4f}, MSE = {average_mse:.4f}, RMSE = {average_rmse:.4f}, R2 = {average_r2:.4f}\")"
      ],
      "metadata": {
        "colab": {
          "base_uri": "https://localhost:8080/"
        },
        "id": "gR0aszUDLqGj",
        "outputId": "32901f8f-52a7-4e31-ec29-360e845e3b5f"
      },
      "execution_count": null,
      "outputs": [
        {
          "output_type": "stream",
          "name": "stdout",
          "text": [
            "MAE: 0.1228, MSE = 0.0353, RMSE = 0.1860, R2 = 0.2894\n"
          ]
        }
      ]
    },
    {
      "cell_type": "markdown",
      "source": [
        "##### **3. Artist pop dan key**"
      ],
      "metadata": {
        "id": "eojTn-A0PeMl"
      }
    },
    {
      "cell_type": "code",
      "source": [
        "from sklearn.model_selection import KFold\n",
        "from sklearn.model_selection import cross_val_score\n",
        "from sklearn.linear_model import LinearRegression\n",
        "from sklearn.metrics import mean_squared_error, mean_absolute_error, r2_score\n",
        "import numpy as np\n",
        "\n",
        "# Contoh data dan model (gantilah dengan data dan model Anda)\n",
        "features = df[['artist_pop', 'key']]\n",
        "x = features.values\n",
        "y = df['track_pop'].values\n",
        "model2 = LinearRegression()\n",
        "\n",
        "# Tentukan jumlah fold (misalnya, 5-fold)\n",
        "kfold = KFold(n_splits=5, shuffle=True, random_state=42)\n",
        "\n",
        "# Lakukan cross-validation dan hitung skor\n",
        "mae_scores = -cross_val_score(model2, x, y, cv=kfold, scoring='neg_mean_absolute_error')\n",
        "mse_scores = -cross_val_score(model2, x, y, cv=kfold, scoring='neg_mean_squared_error')\n",
        "\n",
        "# Karena Scikit-Learn menghasilkan negatif MAE dan MSE, kita harus mengambil negatifnya\n",
        "rmse_scores = np.sqrt(mse_scores)\n",
        "r2_scores = cross_val_score(model2, x, y, cv=kfold, scoring='r2')\n",
        "\n",
        "#Hitung rata rata\n",
        "average_mae = mae_scores.mean()\n",
        "average_mse = mse_scores.mean()\n",
        "average_rmse = rmse_scores.mean()\n",
        "average_r2 = r2_scores.mean()\n",
        "\n",
        "# Menampilkan skor MAE, MSE, RMSE, dan R2\n",
        "print(f\"MAE: {average_mae:.4f}, MSE = {average_mse:.4f}, RMSE = {average_rmse:.4f}, R2 = {average_r2:.4f}\")"
      ],
      "metadata": {
        "colab": {
          "base_uri": "https://localhost:8080/"
        },
        "id": "aTR0a1FnPRx2",
        "outputId": "86978232-2a07-497b-8851-bb867d2803d7"
      },
      "execution_count": null,
      "outputs": [
        {
          "output_type": "stream",
          "name": "stdout",
          "text": [
            "MAE: 11.7366, MSE = 323.7890, RMSE = 17.8405, R2 = 0.2895\n"
          ]
        }
      ]
    },
    {
      "cell_type": "markdown",
      "source": [
        "##### **4. Duration dan loudness**"
      ],
      "metadata": {
        "id": "VH81HaM0PkBr"
      }
    },
    {
      "cell_type": "code",
      "source": [
        "from sklearn.model_selection import KFold\n",
        "from sklearn.model_selection import cross_val_score\n",
        "from sklearn.linear_model import LinearRegression\n",
        "from sklearn.metrics import mean_squared_error, mean_absolute_error, r2_score\n",
        "import numpy as np\n",
        "\n",
        "# Contoh data dan model (gantilah dengan data dan model Anda)\n",
        "features = df[['duration_ms', 'loudness']]\n",
        "x = features.values\n",
        "y = df['track_pop'].values\n",
        "model3 = LinearRegression()\n",
        "\n",
        "# Tentukan jumlah fold (misalnya, 5-fold)\n",
        "kfold = KFold(n_splits=5, shuffle=True, random_state=42)\n",
        "\n",
        "# Lakukan cross-validation dan hitung skor\n",
        "mae_scores = -cross_val_score(model, x, y, cv=kfold, scoring='neg_mean_absolute_error')\n",
        "mse_scores = -cross_val_score(model, x, y, cv=kfold, scoring='neg_mean_squared_error')\n",
        "\n",
        "# Karena Scikit-Learn menghasilkan negatif MAE dan MSE, kita harus mengambil negatifnya\n",
        "rmse_scores = np.sqrt(mse_scores)\n",
        "r2_scores = cross_val_score(model, x, y, cv=kfold, scoring='r2')\n",
        "\n",
        "#Hitung rata rata\n",
        "average_mae = mae_scores.mean()\n",
        "average_mse = mse_scores.mean()\n",
        "average_rmse = rmse_scores.mean()\n",
        "average_r2 = r2_scores.mean()\n",
        "\n",
        "# Menampilkan skor MAE, MSE, RMSE, dan R2\n",
        "print(f\"MAE: {average_mae:.4f}, MSE = {average_mse:.4f}, RMSE = {average_rmse:.4f}, R2 = {average_r2:.4f}\")"
      ],
      "metadata": {
        "colab": {
          "base_uri": "https://localhost:8080/"
        },
        "id": "FuJMWj87PpQr",
        "outputId": "b6852dd8-a513-4b38-fcc9-ce32def109bb"
      },
      "execution_count": null,
      "outputs": [
        {
          "output_type": "stream",
          "name": "stdout",
          "text": [
            "MAE: 0.1774, MSE = 0.0477, RMSE = 0.2180, R2 = 0.0142\n"
          ]
        }
      ]
    },
    {
      "cell_type": "markdown",
      "source": [
        "##### **5. Duration dan key**"
      ],
      "metadata": {
        "id": "g2DfCu3XP3_b"
      }
    },
    {
      "cell_type": "code",
      "source": [
        "from sklearn.model_selection import KFold\n",
        "from sklearn.model_selection import cross_val_score\n",
        "from sklearn.linear_model import LinearRegression\n",
        "from sklearn.metrics import mean_squared_error, mean_absolute_error, r2_score\n",
        "import numpy as np\n",
        "\n",
        "# Contoh data dan model (gantilah dengan data dan model Anda)\n",
        "features = df[['duration_ms', 'key']]\n",
        "x = features.values\n",
        "y = df['track_pop'].values\n",
        "model4 = LinearRegression()\n",
        "\n",
        "# Tentukan jumlah fold (misalnya, 5-fold)\n",
        "kfold = KFold(n_splits=5, shuffle=True, random_state=42)\n",
        "\n",
        "# Lakukan cross-validation dan hitung skor\n",
        "mae_scores = -cross_val_score(model, x, y, cv=kfold, scoring='neg_mean_absolute_error')\n",
        "mse_scores = -cross_val_score(model, x, y, cv=kfold, scoring='neg_mean_squared_error')\n",
        "\n",
        "# Karena Scikit-Learn menghasilkan negatif MAE dan MSE, kita harus mengambil negatifnya\n",
        "rmse_scores = np.sqrt(mse_scores)\n",
        "r2_scores = cross_val_score(model, x, y, cv=kfold, scoring='r2')\n",
        "\n",
        "#Hitung rata rata\n",
        "average_mae = mae_scores.mean()\n",
        "average_mse = mse_scores.mean()\n",
        "average_rmse = rmse_scores.mean()\n",
        "average_r2 = r2_scores.mean()\n",
        "\n",
        "# Menampilkan skor MAE, MSE, RMSE, dan R2\n",
        "print(f\"MAE: {average_mae:.4f}, MSE = {average_mse:.4f}, RMSE = {average_rmse:.4f}, R2 = {average_r2:.4f}\")"
      ],
      "metadata": {
        "colab": {
          "base_uri": "https://localhost:8080/"
        },
        "id": "YjUZ6ibVP8hx",
        "outputId": "20cf6642-b3b9-47a4-97b3-d616a3461ec3"
      },
      "execution_count": null,
      "outputs": [
        {
          "output_type": "stream",
          "name": "stdout",
          "text": [
            "MAE: 0.1745, MSE = 0.0478, RMSE = 0.2181, R2 = 0.0096\n"
          ]
        }
      ]
    },
    {
      "cell_type": "markdown",
      "source": [
        "##### **6. Loudness dan Key**"
      ],
      "metadata": {
        "id": "Gu42qbwqSOnM"
      }
    },
    {
      "cell_type": "code",
      "source": [
        "from sklearn.model_selection import KFold\n",
        "from sklearn.model_selection import cross_val_score\n",
        "from sklearn.linear_model import LinearRegression\n",
        "from sklearn.metrics import mean_squared_error, mean_absolute_error, r2_score\n",
        "import numpy as np\n",
        "\n",
        "# Contoh data dan model (gantilah dengan data dan model Anda)\n",
        "features = df[['loudness', 'key']]\n",
        "x = features.values\n",
        "y = df['track_pop'].values\n",
        "model5 = LinearRegression()\n",
        "\n",
        "# Tentukan jumlah fold (misalnya, 5-fold)\n",
        "kfold = KFold(n_splits=5, shuffle=True, random_state=None)\n",
        "\n",
        "# Lakukan cross-validation dan hitung skor\n",
        "mae_scores = -cross_val_score(model, x, y, cv=kfold, scoring='neg_mean_absolute_error')\n",
        "mse_scores = -cross_val_score(model, x, y, cv=kfold, scoring='neg_mean_squared_error')\n",
        "\n",
        "# Karena Scikit-Learn menghasilkan negatif MAE dan MSE, kita harus mengambil negatifnya\n",
        "rmse_scores = np.sqrt(mse_scores)\n",
        "r2_scores = cross_val_score(model, x, y, cv=kfold, scoring='r2')\n",
        "\n",
        "#Hitung rata rata\n",
        "average_mae = mae_scores.mean()\n",
        "average_mse = mse_scores.mean()\n",
        "average_rmse = rmse_scores.mean()\n",
        "average_r2 = r2_scores.mean()\n",
        "\n",
        "# Menampilkan skor MAE, MSE, RMSE, dan R2\n",
        "print(f\"MAE: {average_mae:.4f}, MSE = {average_mse:.4f}, RMSE = {average_rmse:.4f}, R2 = {average_r2:.4f}\")"
      ],
      "metadata": {
        "colab": {
          "base_uri": "https://localhost:8080/"
        },
        "id": "X40cC0LGSRou",
        "outputId": "f7286cc4-68bf-442a-d5f6-ef30c3f93405"
      },
      "execution_count": null,
      "outputs": [
        {
          "output_type": "stream",
          "name": "stdout",
          "text": [
            "MAE: 0.1855, MSE = 0.0495, RMSE = 0.2222, R2 = 0.0059\n"
          ]
        }
      ]
    },
    {
      "cell_type": "markdown",
      "source": [
        "##### **7. artist_pop, duration_ms, dan loudness**"
      ],
      "metadata": {
        "id": "fh6DPlVLSigv"
      }
    },
    {
      "cell_type": "code",
      "source": [
        "from sklearn.model_selection import KFold\n",
        "from sklearn.model_selection import cross_val_score\n",
        "from sklearn.linear_model import LinearRegression\n",
        "from sklearn.metrics import mean_squared_error, mean_absolute_error, r2_score\n",
        "import numpy as np\n",
        "\n",
        "# Contoh data dan model (gantilah dengan data dan model Anda)\n",
        "features = df[['artist_pop', 'duration_ms', 'loudness']]\n",
        "x = features.values\n",
        "y = df['track_pop'].values\n",
        "model6 = LinearRegression()\n",
        "\n",
        "# Tentukan jumlah fold (misalnya, 5-fold)\n",
        "kfold = KFold(n_splits=5, shuffle=True, random_state=42)\n",
        "\n",
        "# Lakukan cross-validation dan hitung skor\n",
        "mae_scores = -cross_val_score(model, x, y, cv=kfold, scoring='neg_mean_absolute_error')\n",
        "mse_scores = -cross_val_score(model, x, y, cv=kfold, scoring='neg_mean_squared_error')\n",
        "\n",
        "# Karena Scikit-Learn menghasilkan negatif MAE dan MSE, kita harus mengambil negatifnya\n",
        "rmse_scores = np.sqrt(mse_scores)\n",
        "r2_scores = cross_val_score(model, x, y, cv=kfold, scoring='r2')\n",
        "\n",
        "#Hitung rata rata\n",
        "average_mae = mae_scores.mean()\n",
        "average_mse = mse_scores.mean()\n",
        "average_rmse = rmse_scores.mean()\n",
        "average_r2 = r2_scores.mean()\n",
        "\n",
        "# Menampilkan skor MAE, MSE, RMSE, dan R2\n",
        "print(f\"MAE: {average_mae:.4f}, MSE = {average_mse:.4f}, RMSE = {average_rmse:.4f}, R2 = {average_r2:.4f}\")"
      ],
      "metadata": {
        "colab": {
          "base_uri": "https://localhost:8080/"
        },
        "id": "fXDcHytpSlG8",
        "outputId": "9499ec02-7767-4b13-dd14-9fc888389406"
      },
      "execution_count": null,
      "outputs": [
        {
          "output_type": "stream",
          "name": "stdout",
          "text": [
            "MAE: 0.1236, MSE = 0.0361, RMSE = 0.1883, R2 = 0.2713\n"
          ]
        }
      ]
    },
    {
      "cell_type": "markdown",
      "source": [
        "##### **8. artist_pop, duration_ms, dan key**"
      ],
      "metadata": {
        "id": "kjiYAVi8S3Sg"
      }
    },
    {
      "cell_type": "code",
      "source": [
        "from sklearn.model_selection import KFold\n",
        "from sklearn.model_selection import cross_val_score\n",
        "from sklearn.linear_model import LinearRegression\n",
        "from sklearn.metrics import mean_squared_error, mean_absolute_error, r2_score\n",
        "import numpy as np\n",
        "\n",
        "# Contoh data dan model (gantilah dengan data dan model Anda)\n",
        "features = df[['artist_pop', 'duration_ms', 'key']]\n",
        "x = features.values\n",
        "y = df['track_pop'].values\n",
        "model7 = LinearRegression()\n",
        "\n",
        "# Tentukan jumlah fold (misalnya, 5-fold)\n",
        "kfold = KFold(n_splits=5, shuffle=True, random_state=42)\n",
        "\n",
        "# Lakukan cross-validation dan hitung skor\n",
        "mae_scores = -cross_val_score(model, x, y, cv=kfold, scoring='neg_mean_absolute_error')\n",
        "mse_scores = -cross_val_score(model, x, y, cv=kfold, scoring='neg_mean_squared_error')\n",
        "\n",
        "# Karena Scikit-Learn menghasilkan negatif MAE dan MSE, kita harus mengambil negatifnya\n",
        "rmse_scores = np.sqrt(mse_scores)\n",
        "r2_scores = cross_val_score(model, x, y, cv=kfold, scoring='r2')\n",
        "\n",
        "#Hitung rata rata\n",
        "average_mae = mae_scores.mean()\n",
        "average_mse = mse_scores.mean()\n",
        "average_rmse = rmse_scores.mean()\n",
        "average_r2 = r2_scores.mean()\n",
        "\n",
        "# Menampilkan skor MAE, MSE, RMSE, dan R2\n",
        "print(f\"MAE: {average_mae:.4f}, MSE = {average_mse:.4f}, RMSE = {average_rmse:.4f}, R2 = {average_r2:.4f}\")"
      ],
      "metadata": {
        "colab": {
          "base_uri": "https://localhost:8080/"
        },
        "id": "4ExU2htvS64P",
        "outputId": "19a7c977-84aa-42f1-a71a-10b928af3bf8"
      },
      "execution_count": null,
      "outputs": [
        {
          "output_type": "stream",
          "name": "stdout",
          "text": [
            "MAE: 0.1234, MSE = 0.0360, RMSE = 0.1881, R2 = 0.2718\n"
          ]
        }
      ]
    },
    {
      "cell_type": "markdown",
      "source": [
        "##### **9. artist_pop, loudness, dan key**"
      ],
      "metadata": {
        "id": "PZjd2BxrTfFj"
      }
    },
    {
      "cell_type": "code",
      "source": [
        "from sklearn.model_selection import KFold\n",
        "from sklearn.model_selection import cross_val_score\n",
        "from sklearn.linear_model import LinearRegression\n",
        "from sklearn.metrics import mean_squared_error, mean_absolute_error, r2_score\n",
        "import numpy as np\n",
        "\n",
        "# Contoh data dan model (gantilah dengan data dan model Anda)\n",
        "features = df[['artist_pop', 'loudness', 'key']]\n",
        "x = features.values\n",
        "y = df['track_pop'].values\n",
        "model8 = LinearRegression()\n",
        "\n",
        "# Tentukan jumlah fold (misalnya, 5-fold)\n",
        "kfold = KFold(n_splits=5, shuffle=True, random_state=42)\n",
        "\n",
        "# Lakukan cross-validation dan hitung skor\n",
        "mae_scores = -cross_val_score(model, x, y, cv=kfold, scoring='neg_mean_absolute_error')\n",
        "mse_scores = -cross_val_score(model, x, y, cv=kfold, scoring='neg_mean_squared_error')\n",
        "\n",
        "# Karena Scikit-Learn menghasilkan negatif MAE dan MSE, kita harus mengambil negatifnya\n",
        "rmse_scores = np.sqrt(mse_scores)\n",
        "r2_scores = cross_val_score(model, x, y, cv=kfold, scoring='r2')\n",
        "\n",
        "#Hitung rata rata\n",
        "average_mae = mae_scores.mean()\n",
        "average_mse = mse_scores.mean()\n",
        "average_rmse = rmse_scores.mean()\n",
        "average_r2 = r2_scores.mean()\n",
        "\n",
        "# Menampilkan skor MAE, MSE, RMSE, dan R2\n",
        "print(f\"MAE: {average_mae:.4f}, MSE = {average_mse:.4f}, RMSE = {average_rmse:.4f}, R2 = {average_r2:.4f}\")"
      ],
      "metadata": {
        "colab": {
          "base_uri": "https://localhost:8080/"
        },
        "id": "VPWkbVpbTkXq",
        "outputId": "88f1432d-2ace-40e8-cdfa-3106d583754e"
      },
      "execution_count": null,
      "outputs": [
        {
          "output_type": "stream",
          "name": "stdout",
          "text": [
            "MAE: 0.1230, MSE = 0.0352, RMSE = 0.1859, R2 = 0.2887\n"
          ]
        }
      ]
    },
    {
      "cell_type": "markdown",
      "source": [
        "##### **10. duration_ms, loudness, dan key**"
      ],
      "metadata": {
        "id": "Xw2137EeUEmI"
      }
    },
    {
      "cell_type": "code",
      "source": [
        "from sklearn.model_selection import KFold\n",
        "from sklearn.model_selection import cross_val_score\n",
        "from sklearn.linear_model import LinearRegression\n",
        "from sklearn.metrics import mean_squared_error, mean_absolute_error, r2_score\n",
        "import numpy as np\n",
        "\n",
        "# Contoh data dan model (gantilah dengan data dan model Anda)\n",
        "features = df[['duration_ms', 'loudness', 'key']]\n",
        "x = features.values\n",
        "y = df['track_pop'].values\n",
        "model9 = LinearRegression()\n",
        "\n",
        "# Tentukan jumlah fold (misalnya, 5-fold)\n",
        "kfold = KFold(n_splits=5, shuffle=True, random_state=42)\n",
        "\n",
        "# Lakukan cross-validation dan hitung skor\n",
        "mae_scores = -cross_val_score(model, x, y, cv=kfold, scoring='neg_mean_absolute_error')\n",
        "mse_scores = -cross_val_score(model, x, y, cv=kfold, scoring='neg_mean_squared_error')\n",
        "\n",
        "# Karena Scikit-Learn menghasilkan negatif MAE dan MSE, kita harus mengambil negatifnya\n",
        "rmse_scores = np.sqrt(mse_scores)\n",
        "r2_scores = cross_val_score(model, x, y, cv=kfold, scoring='r2')\n",
        "\n",
        "#Hitung rata rata\n",
        "average_mae = mae_scores.mean()\n",
        "average_mse = mse_scores.mean()\n",
        "average_rmse = rmse_scores.mean()\n",
        "average_r2 = r2_scores.mean()\n",
        "\n",
        "# Menampilkan skor MAE, MSE, RMSE, dan R2\n",
        "print(f\"MAE: {average_mae:.4f}, MSE = {average_mse:.4f}, RMSE = {average_rmse:.4f}, R2 = {average_r2:.4f}\")"
      ],
      "metadata": {
        "colab": {
          "base_uri": "https://localhost:8080/"
        },
        "id": "kW1KNcLPUIxM",
        "outputId": "fc3a7d0c-6089-481c-fc17-771127dbdb96"
      },
      "execution_count": null,
      "outputs": [
        {
          "output_type": "stream",
          "name": "stdout",
          "text": [
            "MAE: 0.1751, MSE = 0.0478, RMSE = 0.2181, R2 = 0.0108\n"
          ]
        }
      ]
    },
    {
      "cell_type": "markdown",
      "source": [
        "##### **11. artist_pop, duration_ms, loudness, dan key**"
      ],
      "metadata": {
        "id": "-58Xbik2UVvX"
      }
    },
    {
      "cell_type": "code",
      "source": [
        "from sklearn.model_selection import KFold\n",
        "from sklearn.model_selection import cross_val_score\n",
        "from sklearn.linear_model import LinearRegression\n",
        "from sklearn.metrics import mean_squared_error, mean_absolute_error, r2_score\n",
        "import numpy as np\n",
        "\n",
        "# Contoh data dan model (gantilah dengan data dan model Anda)\n",
        "features = df[['artist_pop', 'duration_ms', 'loudness', 'key']]\n",
        "x = features.values\n",
        "y = df['track_pop'].values\n",
        "model10 = LinearRegression()\n",
        "\n",
        "# Tentukan jumlah fold (misalnya, 5-fold)\n",
        "kfold = KFold(n_splits=5, shuffle=True, random_state=42)\n",
        "\n",
        "# Lakukan cross-validation dan hitung skor\n",
        "mae_scores = -cross_val_score(model, x, y, cv=kfold, scoring='neg_mean_absolute_error')\n",
        "mse_scores = -cross_val_score(model, x, y, cv=kfold, scoring='neg_mean_squared_error')\n",
        "\n",
        "# Karena Scikit-Learn menghasilkan negatif MAE dan MSE, kita harus mengambil negatifnya\n",
        "rmse_scores = np.sqrt(mse_scores)\n",
        "r2_scores = cross_val_score(model, x, y, cv=kfold, scoring='r2')\n",
        "\n",
        "#Hitung rata rata\n",
        "average_mae = mae_scores.mean()\n",
        "average_mse = mse_scores.mean()\n",
        "average_rmse = rmse_scores.mean()\n",
        "average_r2 = r2_scores.mean()\n",
        "\n",
        "# Menampilkan skor MAE, MSE, RMSE, dan R2\n",
        "print(f\"MAE: {average_mae:.4f}, MSE = {average_mse:.4f}, RMSE = {average_rmse:.4f}, R2 = {average_r2:.4f}\")"
      ],
      "metadata": {
        "colab": {
          "base_uri": "https://localhost:8080/"
        },
        "id": "Zvazx2CvUYdG",
        "outputId": "d52819f1-076f-4bc0-a2ea-cde511f96629"
      },
      "execution_count": null,
      "outputs": [
        {
          "output_type": "stream",
          "name": "stdout",
          "text": [
            "MAE: 0.1241, MSE = 0.0361, RMSE = 0.1884, R2 = 0.2698\n"
          ]
        }
      ]
    },
    {
      "cell_type": "markdown",
      "source": [
        "# Menyimpan ke pickle dan test dengan CSV baru"
      ],
      "metadata": {
        "id": "pu-bJof1_h8H"
      }
    },
    {
      "cell_type": "code",
      "source": [
        "import pickle"
      ],
      "metadata": {
        "id": "qfJkFGAIBV-6"
      },
      "execution_count": null,
      "outputs": []
    },
    {
      "cell_type": "code",
      "source": [
        "pickle.dump(model2, open('/content/model2_saved', 'wb'))"
      ],
      "metadata": {
        "id": "Bm9mgmu3Bccz"
      },
      "execution_count": null,
      "outputs": []
    },
    {
      "cell_type": "code",
      "source": [
        "model2_loaded = pickle.load(open('/content/model2_saved', 'rb'))"
      ],
      "metadata": {
        "id": "3xHpr6TVCKTf"
      },
      "execution_count": null,
      "outputs": []
    },
    {
      "cell_type": "code",
      "source": [
        "pkl_filename = \"/content/drive/MyDrive/Semester 5/Machine Learning/model_final.pkl\"\n",
        "with open(pkl_filename, 'wb') as file:\n",
        "    pickle.dump(model2, file)"
      ],
      "metadata": {
        "id": "a-lWYz8DChoH"
      },
      "execution_count": null,
      "outputs": []
    },
    {
      "cell_type": "code",
      "source": [
        "pkl_filename = \"/content/drive/MyDrive/Semester 5/Machine Learning/model_final.pkl\"\n",
        "with open(pkl_filename, 'rb') as file:\n",
        "    loaded_model = pickle.load(file)"
      ],
      "metadata": {
        "id": "4uzjtQzcDrKT"
      },
      "execution_count": null,
      "outputs": []
    },
    {
      "cell_type": "code",
      "source": [
        "df_new = pd.read_csv('/content/drive/MyDrive/Semester 5/Machine Learning/Data_Tiktok_Baru - Sheet1.csv')\n",
        "x_new = df_new[['artist_pop', 'key']].values\n",
        "x_new"
      ],
      "metadata": {
        "colab": {
          "base_uri": "https://localhost:8080/"
        },
        "id": "zM8GDvLODyqK",
        "outputId": "00e061b4-8e94-4e17-8705-88a88962103b"
      },
      "execution_count": null,
      "outputs": [
        {
          "output_type": "execute_result",
          "data": {
            "text/plain": [
              "array([[94,  1],\n",
              "       [85,  8],\n",
              "       [96,  5],\n",
              "       [95,  4],\n",
              "       [98,  6]])"
            ]
          },
          "metadata": {},
          "execution_count": 18
        }
      ]
    },
    {
      "cell_type": "code",
      "source": [
        "loaded_model.fit(x, y)"
      ],
      "metadata": {
        "colab": {
          "base_uri": "https://localhost:8080/",
          "height": 74
        },
        "id": "1iTscbBGE5A1",
        "outputId": "b3599512-4c42-46c9-cb5c-de785b43cc07"
      },
      "execution_count": null,
      "outputs": [
        {
          "output_type": "execute_result",
          "data": {
            "text/plain": [
              "LinearRegression()"
            ],
            "text/html": [
              "<style>#sk-container-id-1 {color: black;background-color: white;}#sk-container-id-1 pre{padding: 0;}#sk-container-id-1 div.sk-toggleable {background-color: white;}#sk-container-id-1 label.sk-toggleable__label {cursor: pointer;display: block;width: 100%;margin-bottom: 0;padding: 0.3em;box-sizing: border-box;text-align: center;}#sk-container-id-1 label.sk-toggleable__label-arrow:before {content: \"▸\";float: left;margin-right: 0.25em;color: #696969;}#sk-container-id-1 label.sk-toggleable__label-arrow:hover:before {color: black;}#sk-container-id-1 div.sk-estimator:hover label.sk-toggleable__label-arrow:before {color: black;}#sk-container-id-1 div.sk-toggleable__content {max-height: 0;max-width: 0;overflow: hidden;text-align: left;background-color: #f0f8ff;}#sk-container-id-1 div.sk-toggleable__content pre {margin: 0.2em;color: black;border-radius: 0.25em;background-color: #f0f8ff;}#sk-container-id-1 input.sk-toggleable__control:checked~div.sk-toggleable__content {max-height: 200px;max-width: 100%;overflow: auto;}#sk-container-id-1 input.sk-toggleable__control:checked~label.sk-toggleable__label-arrow:before {content: \"▾\";}#sk-container-id-1 div.sk-estimator input.sk-toggleable__control:checked~label.sk-toggleable__label {background-color: #d4ebff;}#sk-container-id-1 div.sk-label input.sk-toggleable__control:checked~label.sk-toggleable__label {background-color: #d4ebff;}#sk-container-id-1 input.sk-hidden--visually {border: 0;clip: rect(1px 1px 1px 1px);clip: rect(1px, 1px, 1px, 1px);height: 1px;margin: -1px;overflow: hidden;padding: 0;position: absolute;width: 1px;}#sk-container-id-1 div.sk-estimator {font-family: monospace;background-color: #f0f8ff;border: 1px dotted black;border-radius: 0.25em;box-sizing: border-box;margin-bottom: 0.5em;}#sk-container-id-1 div.sk-estimator:hover {background-color: #d4ebff;}#sk-container-id-1 div.sk-parallel-item::after {content: \"\";width: 100%;border-bottom: 1px solid gray;flex-grow: 1;}#sk-container-id-1 div.sk-label:hover label.sk-toggleable__label {background-color: #d4ebff;}#sk-container-id-1 div.sk-serial::before {content: \"\";position: absolute;border-left: 1px solid gray;box-sizing: border-box;top: 0;bottom: 0;left: 50%;z-index: 0;}#sk-container-id-1 div.sk-serial {display: flex;flex-direction: column;align-items: center;background-color: white;padding-right: 0.2em;padding-left: 0.2em;position: relative;}#sk-container-id-1 div.sk-item {position: relative;z-index: 1;}#sk-container-id-1 div.sk-parallel {display: flex;align-items: stretch;justify-content: center;background-color: white;position: relative;}#sk-container-id-1 div.sk-item::before, #sk-container-id-1 div.sk-parallel-item::before {content: \"\";position: absolute;border-left: 1px solid gray;box-sizing: border-box;top: 0;bottom: 0;left: 50%;z-index: -1;}#sk-container-id-1 div.sk-parallel-item {display: flex;flex-direction: column;z-index: 1;position: relative;background-color: white;}#sk-container-id-1 div.sk-parallel-item:first-child::after {align-self: flex-end;width: 50%;}#sk-container-id-1 div.sk-parallel-item:last-child::after {align-self: flex-start;width: 50%;}#sk-container-id-1 div.sk-parallel-item:only-child::after {width: 0;}#sk-container-id-1 div.sk-dashed-wrapped {border: 1px dashed gray;margin: 0 0.4em 0.5em 0.4em;box-sizing: border-box;padding-bottom: 0.4em;background-color: white;}#sk-container-id-1 div.sk-label label {font-family: monospace;font-weight: bold;display: inline-block;line-height: 1.2em;}#sk-container-id-1 div.sk-label-container {text-align: center;}#sk-container-id-1 div.sk-container {/* jupyter's `normalize.less` sets `[hidden] { display: none; }` but bootstrap.min.css set `[hidden] { display: none !important; }` so we also need the `!important` here to be able to override the default hidden behavior on the sphinx rendered scikit-learn.org. See: https://github.com/scikit-learn/scikit-learn/issues/21755 */display: inline-block !important;position: relative;}#sk-container-id-1 div.sk-text-repr-fallback {display: none;}</style><div id=\"sk-container-id-1\" class=\"sk-top-container\"><div class=\"sk-text-repr-fallback\"><pre>LinearRegression()</pre><b>In a Jupyter environment, please rerun this cell to show the HTML representation or trust the notebook. <br />On GitHub, the HTML representation is unable to render, please try loading this page with nbviewer.org.</b></div><div class=\"sk-container\" hidden><div class=\"sk-item\"><div class=\"sk-estimator sk-toggleable\"><input class=\"sk-toggleable__control sk-hidden--visually\" id=\"sk-estimator-id-1\" type=\"checkbox\" checked><label for=\"sk-estimator-id-1\" class=\"sk-toggleable__label sk-toggleable__label-arrow\">LinearRegression</label><div class=\"sk-toggleable__content\"><pre>LinearRegression()</pre></div></div></div></div></div>"
            ]
          },
          "metadata": {},
          "execution_count": 20
        }
      ]
    },
    {
      "cell_type": "code",
      "source": [
        "y_pred_new = loaded_model.predict(x_new)\n",
        "print(y_pred_new)"
      ],
      "metadata": {
        "colab": {
          "base_uri": "https://localhost:8080/"
        },
        "id": "gv7FdFbTEx_W",
        "outputId": "6dfc6989-d1dd-4de9-c4af-71b596026d00"
      },
      "execution_count": null,
      "outputs": [
        {
          "output_type": "stream",
          "name": "stdout",
          "text": [
            "[84.96872162 74.36401616 83.49885305 83.54502277 84.09527816]\n"
          ]
        }
      ]
    }
  ]
}